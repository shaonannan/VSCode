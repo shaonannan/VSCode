{
  "nbformat": 4,
  "nbformat_minor": 0,
  "metadata": {
    "colab": {
      "name": "EI_transient_dynamics",
      "provenance": [],
      "collapsed_sections": []
    },
    "kernelspec": {
      "name": "python3",
      "display_name": "Python 3"
    }
  },
  "cells": [
    {
      "cell_type": "code",
      "metadata": {
        "id": "TLbfU-dNPuyX",
        "colab_type": "code",
        "colab": {}
      },
      "source": [
        "from __future__ import print_function\n",
        "from ipywidgets import interact, interactive, fixed, interact_manual\n",
        "import ipywidgets as widgets\n",
        "import numpy as np\n",
        "import matplotlib.pylab as plt\n",
        "from numpy import linalg as la\n",
        "from scipy.optimize import fsolve\n",
        "from scipy import linalg as scpla"
      ],
      "execution_count": 104,
      "outputs": []
    },
    {
      "cell_type": "code",
      "metadata": {
        "id": "VsKCi1OkQXhi",
        "colab_type": "code",
        "colab": {}
      },
      "source": [
        "# nonlinear transfer function -- we use tanh\n",
        "def nonlineartransfer(x,params,type='tanh'):\n",
        "    if type=='relu':\n",
        "        a,theta = params[0],params[1]\n",
        "        if x-theta>0:\n",
        "            return a*(x-theta)\n",
        "        else:\n",
        "            return 0\n",
        "    elif type=='tanh':\n",
        "        return (1.0+np.tanh(x))/2.0\n",
        "\n",
        "# run iterative loops, each one has a set of parameters\n",
        "def run_dynamics(x0, stm, Net_settings,Conn_mat):\n",
        "    tf_type = Net_settings['transfer_func']\n",
        "    JE,JI   = Conn_mat['JE'],Conn_mat['JI']\n",
        "    tfinal  = Net_settings['final_time']\n",
        "    dt      = Net_settings['time_step']\n",
        "    taxis = np.arange(0,tfinal,dt)\n",
        "    nnum,nt = len(x0),len(taxis)\n",
        "    x_seq = np.zeros((nnum,nt))\n",
        "    x_dot_seq = np.zeros_like(x_seq)\n",
        "    x_seq[:,0] = x0[:,0]\n",
        "    for idxt in range(1,nt):\n",
        "        for idx in range(nnum):\n",
        "            x_dot = -x_seq[idx,idxt-1]+JE*nonlineartransfer(x_seq[0,idxt-1],0,)-JI*nonlineartransfer(x_seq[1,idxt-1],0,)+stm[idx]\n",
        "            x_seq[idx,idxt]=x_dot*dt+x_seq[idx,idxt-1]\n",
        "            x_dot_seq[idx,idxt-1] = x_dot\n",
        "\n",
        "    return taxis,x_seq,x_dot_seq\n",
        "\n",
        "# theoretical solution, finding roots \n",
        "def func_kappa(x,params):\n",
        "    JE,JI,I1,I2,I_overlap,m=params[0],params[1],params[2],params[3],params[4],params[5]  \n",
        "    return -x+(JE-JI)/2.0+(JE*np.tanh(x+I1)-JI*np.tanh(x+I2))/2.0+I_overlap\n",
        "\n",
        "# r.h.s. function g(\\kappa)\n",
        "def rhsg_kappa(x,params):\n",
        "    JE,JI,I1,I2,I_overlap,m = params[0],params[1],params[2],params[3],params[4],params[5]\n",
        "    return JE*(1+np.tanh(x+I1))/2.0-JI*(1+np.tanh(x+I2))/2.0+I_overlap\n",
        "# decompose the input signal I_{ext} -- component parallel to m and perpendicular to m\n",
        "def decompinput(Iorg,m,):\n",
        "  I1,I2=Iorg[0,0],Iorg[1,0]\n",
        "  # overlapping\n",
        "  innermul = I1*m[0,0]+I2*m[1,0]\n",
        "  amp_m = 1.0/np.sqrt(np.sum(m**2))\n",
        "  amp_I2m = innermul/np.sqrt(np.sum(m**2))\n",
        "  I_overlap=amp_I2M*amp_m\n",
        "  I_proj = amp_I2m*amp_m*m\n",
        "  I_perpen = Iorg-I_proj\n",
        "  \n",
        "  return I_overlap,I_proj,I_perpen\n",
        "\n",
        "# derivative np.tanh\n",
        "def deriv_tanh(x):\n",
        "  return (1-np.tanh(x)**2)/2.0\n",
        "\n",
        "def deriv2_tanh(x):\n",
        "  return -np.tanh(x)*(np.sech(x)**2)\n",
        "# first order derivative of transfer function \\phi\n",
        "def transfer_derivmat(x,params,order=1):\n",
        "    x0,x1=x.tolist()\n",
        "    JE,JI=params[0],params[1]\n",
        "    deriv_mat,deriv_mat2 = np.zeros((2,2)),np.zeros((2,2))\n",
        "    deriv_mat[0,0] = JE*deriv_tanh(x0) #e2e\n",
        "    deriv_mat[0,1] = -JI*deriv_tanh(x1) #i2e\n",
        "    deriv_mat[1,0] = JE*deriv_tanh(x0) #e2i\n",
        "    deriv_mat[1,1] = -JI*deriv_tanh(x1) #i2i\n",
        "    return deriv_mat,[deriv_tanh(x0),deriv_tanh(x1)]\n",
        "\n",
        "# figure out the critical points, which meet the requirement -- f(x) is tangent to g(x)\n",
        "def solvetangent(x,params):\n",
        "    x0,x1=x.tolist()\n",
        "    JE,JI,I1,I2=params[0],params[1],params[2],params[3]\n",
        "    C=(JE-JI)/2.0\n",
        "    return [-x0+JE*(1+np.tanh(x0+I1))/2.0-JI*(1+np.tanh(x0+I2))/2.0+x1,-1+JE*(1-(np.tanh(x0+I1))**2)/2.0-JI*(1-(np.tanh(x0+I2))**2)/2.0]"
      ],
      "execution_count": 106,
      "outputs": []
    },
    {
      "cell_type": "code",
      "metadata": {
        "id": "UcLL6wAGTTs3",
        "colab_type": "code",
        "colab": {}
      },
      "source": [
        "# Network settings\n",
        "Net_settings ={'transfer_func': 'tanh',\n",
        "                'time_step': 0.1,\n",
        "                'final_time':150,\n",
        "}\n",
        "# connectivity matrix\n",
        "Conn_mat ={'JE': 1.4,\n",
        "            'JI':1.2,\n",
        "}\n",
        "m = np.ones((2,1))\n",
        "ntt = int(Net_settings['final_time']/Net_settings['time_step'])"
      ],
      "execution_count": 108,
      "outputs": []
    },
    {
      "cell_type": "code",
      "metadata": {
        "id": "2hj5dY5KTdMd",
        "colab_type": "code",
        "colab": {}
      },
      "source": [
        "JE,JI = Conn_mat['JE'],Conn_mat['JI']\n",
        "tf, dt = Net_settings['final_time'],Net_settings['time_step']\n",
        "tt = np.arange(0.0,Net_settings['final_time'],Net_settings['time_step'])\n",
        "\n",
        "# choose 3 typical points to do numerical simulation\n",
        "Iamp_typical = np.array([0.075,0.15,0.225])\n",
        "nparam_Iamp = len(Iamp_typical)\n",
        "kappa_num_series_up,kappa_num_series_bot = np.zeros((nparam_Iamp,ntt)),np.zeros((nparam_Iamp,ntt))\n",
        "x_dot_series_up,x_dot_series_bot = np.zeros((nparam_Iamp,2,ntt)),np.zeros((nparam_Iamp,2,ntt))\n",
        "x_series_up,x_series_bot = np.zeros((nparam_Iamp,2,ntt)),np.zeros((nparam_Iamp,2,ntt))\n",
        "eps = 0.1\n",
        "for idxi in np.arange(nparam_Iamp):\n",
        "    C= (JE-JI)/2.0\n",
        "    stm = Iamp_typical[idxi]\n",
        "    # upper approximate\n",
        "    x0 = stm*np.ones((2,1))\n",
        "    x0[1,0]=0\n",
        "    taxis, x_seq,x_dot_seq = run_dynamics(x0, np.zeros((2,1)), Net_settings,Conn_mat)\n",
        "    x_series_up[idxi,:,:], x_dot_series_up[idxi,:,:] = x_seq, x_dot_seq\n",
        "    kappa_num_series_up[idxi,:] = x_series_up[idxi,0,:]#-stm[0,0]"
      ],
      "execution_count": 110,
      "outputs": []
    },
    {
      "cell_type": "code",
      "metadata": {
        "id": "0h2t6cJoUXn7",
        "colab_type": "code",
        "colab": {
          "base_uri": "https://localhost:8080/",
          "height": 298
        },
        "outputId": "fbf98e42-87a0-4ca7-81f1-675c103a2b13",
        "tags": []
      },
      "source": [
        "# plt.figure()\n",
        "# plt.plot(tt,kappa_num_series_up[0,:],'r',label=r\"$I_{amp}=-3.0$ upper\")\n",
        "# plt.plot(tt,kappa_num_series_up[1,:],'g',label=r\"$I_{amp}=-2.5$ upper\")\n",
        "# plt.plot(tt,kappa_num_series_up[2,:],'b',label=r\"$I_{amp}=-2.0$ upper\")\n",
        "plt.figure()\n",
        "plt.subplot(2,1,1)\n",
        "plt.plot(tt,x_series_up[0,0,:],'r',label=r\"$J_E=0.5$ upper\")\n",
        "plt.plot(tt,x_series_up[1,0,:],'b',label=r\"$J_E=3.0$ upper\")\n",
        "plt.plot(tt,x_series_up[2,0,:],'b',label=r\"$J_E=5.0$ upper\")\n",
        "plt.subplot(2,1,2)\n",
        "plt.plot(tt,x_series_up[0,1,:],'r',label=r\"$J_E=0.5$ upper\")\n",
        "plt.plot(tt,x_series_up[1,1,:],'b',label=r\"$J_E=3.0$ upper\")\n",
        "plt.plot(tt,x_series_up[2,1,:],'b',label=r\"$J_E=5.0$ upper\")\n",
        "\n",
        "x_FP = np.reshape(np.squeeze(x_series_up[0,:,-1]),(2,1))\n",
        "print('FP of x: ',x_FP)\n",
        "kappa_FP,nu_FP = x_FP[0,0]/1.0,0.0"
      ],
      "execution_count": 112,
      "outputs": [
        {
          "output_type": "stream",
          "name": "stdout",
          "text": "FP of x: [[0.11106062]\n [0.11106062]]\n"
        },
        {
          "output_type": "display_data",
          "data": {
            "text/plain": "<Figure size 432x288 with 2 Axes>",
            "image/svg+xml": "<?xml version=\"1.0\" encoding=\"utf-8\" standalone=\"no\"?>\r\n<!DOCTYPE svg PUBLIC \"-//W3C//DTD SVG 1.1//EN\"\r\n  \"http://www.w3.org/Graphics/SVG/1.1/DTD/svg11.dtd\">\r\n<!-- Created with matplotlib (https://matplotlib.org/) -->\r\n<svg height=\"248.518125pt\" version=\"1.1\" viewBox=\"0 0 378.465625 248.518125\" width=\"378.465625pt\" xmlns=\"http://www.w3.org/2000/svg\" xmlns:xlink=\"http://www.w3.org/1999/xlink\">\r\n <defs>\r\n  <style type=\"text/css\">\r\n*{stroke-linecap:butt;stroke-linejoin:round;}\r\n  </style>\r\n </defs>\r\n <g id=\"figure_1\">\r\n  <g id=\"patch_1\">\r\n   <path d=\"M 0 248.518125 \r\nL 378.465625 248.518125 \r\nL 378.465625 0 \r\nL 0 0 \r\nz\r\n\" style=\"fill:none;\"/>\r\n  </g>\r\n  <g id=\"axes_1\">\r\n   <g id=\"patch_2\">\r\n    <path d=\"M 36.465625 106.036364 \r\nL 371.265625 106.036364 \r\nL 371.265625 7.2 \r\nL 36.465625 7.2 \r\nz\r\n\" style=\"fill:#ffffff;\"/>\r\n   </g>\r\n   <g id=\"matplotlib.axis_1\">\r\n    <g id=\"xtick_1\">\r\n     <g id=\"line2d_1\">\r\n      <defs>\r\n       <path d=\"M 0 0 \r\nL 0 3.5 \r\n\" id=\"m1da78dc6e7\" style=\"stroke:#000000;stroke-width:0.8;\"/>\r\n      </defs>\r\n      <g>\r\n       <use style=\"stroke:#000000;stroke-width:0.8;\" x=\"51.683807\" xlink:href=\"#m1da78dc6e7\" y=\"106.036364\"/>\r\n      </g>\r\n     </g>\r\n     <g id=\"text_1\">\r\n      <!-- 0 -->\r\n      <defs>\r\n       <path d=\"M 31.78125 66.40625 \r\nQ 24.171875 66.40625 20.328125 58.90625 \r\nQ 16.5 51.421875 16.5 36.375 \r\nQ 16.5 21.390625 20.328125 13.890625 \r\nQ 24.171875 6.390625 31.78125 6.390625 \r\nQ 39.453125 6.390625 43.28125 13.890625 \r\nQ 47.125 21.390625 47.125 36.375 \r\nQ 47.125 51.421875 43.28125 58.90625 \r\nQ 39.453125 66.40625 31.78125 66.40625 \r\nz\r\nM 31.78125 74.21875 \r\nQ 44.046875 74.21875 50.515625 64.515625 \r\nQ 56.984375 54.828125 56.984375 36.375 \r\nQ 56.984375 17.96875 50.515625 8.265625 \r\nQ 44.046875 -1.421875 31.78125 -1.421875 \r\nQ 19.53125 -1.421875 13.0625 8.265625 \r\nQ 6.59375 17.96875 6.59375 36.375 \r\nQ 6.59375 54.828125 13.0625 64.515625 \r\nQ 19.53125 74.21875 31.78125 74.21875 \r\nz\r\n\" id=\"DejaVuSans-48\"/>\r\n      </defs>\r\n      <g transform=\"translate(48.502557 120.634801)scale(0.1 -0.1)\">\r\n       <use xlink:href=\"#DejaVuSans-48\"/>\r\n      </g>\r\n     </g>\r\n    </g>\r\n    <g id=\"xtick_2\">\r\n     <g id=\"line2d_2\">\r\n      <g>\r\n       <use style=\"stroke:#000000;stroke-width:0.8;\" x=\"92.292698\" xlink:href=\"#m1da78dc6e7\" y=\"106.036364\"/>\r\n      </g>\r\n     </g>\r\n     <g id=\"text_2\">\r\n      <!-- 20 -->\r\n      <defs>\r\n       <path d=\"M 19.1875 8.296875 \r\nL 53.609375 8.296875 \r\nL 53.609375 0 \r\nL 7.328125 0 \r\nL 7.328125 8.296875 \r\nQ 12.9375 14.109375 22.625 23.890625 \r\nQ 32.328125 33.6875 34.8125 36.53125 \r\nQ 39.546875 41.84375 41.421875 45.53125 \r\nQ 43.3125 49.21875 43.3125 52.78125 \r\nQ 43.3125 58.59375 39.234375 62.25 \r\nQ 35.15625 65.921875 28.609375 65.921875 \r\nQ 23.96875 65.921875 18.8125 64.3125 \r\nQ 13.671875 62.703125 7.8125 59.421875 \r\nL 7.8125 69.390625 \r\nQ 13.765625 71.78125 18.9375 73 \r\nQ 24.125 74.21875 28.421875 74.21875 \r\nQ 39.75 74.21875 46.484375 68.546875 \r\nQ 53.21875 62.890625 53.21875 53.421875 \r\nQ 53.21875 48.921875 51.53125 44.890625 \r\nQ 49.859375 40.875 45.40625 35.40625 \r\nQ 44.1875 33.984375 37.640625 27.21875 \r\nQ 31.109375 20.453125 19.1875 8.296875 \r\nz\r\n\" id=\"DejaVuSans-50\"/>\r\n      </defs>\r\n      <g transform=\"translate(85.930198 120.634801)scale(0.1 -0.1)\">\r\n       <use xlink:href=\"#DejaVuSans-50\"/>\r\n       <use x=\"63.623047\" xlink:href=\"#DejaVuSans-48\"/>\r\n      </g>\r\n     </g>\r\n    </g>\r\n    <g id=\"xtick_3\">\r\n     <g id=\"line2d_3\">\r\n      <g>\r\n       <use style=\"stroke:#000000;stroke-width:0.8;\" x=\"132.901588\" xlink:href=\"#m1da78dc6e7\" y=\"106.036364\"/>\r\n      </g>\r\n     </g>\r\n     <g id=\"text_3\">\r\n      <!-- 40 -->\r\n      <defs>\r\n       <path d=\"M 37.796875 64.3125 \r\nL 12.890625 25.390625 \r\nL 37.796875 25.390625 \r\nz\r\nM 35.203125 72.90625 \r\nL 47.609375 72.90625 \r\nL 47.609375 25.390625 \r\nL 58.015625 25.390625 \r\nL 58.015625 17.1875 \r\nL 47.609375 17.1875 \r\nL 47.609375 0 \r\nL 37.796875 0 \r\nL 37.796875 17.1875 \r\nL 4.890625 17.1875 \r\nL 4.890625 26.703125 \r\nz\r\n\" id=\"DejaVuSans-52\"/>\r\n      </defs>\r\n      <g transform=\"translate(126.539088 120.634801)scale(0.1 -0.1)\">\r\n       <use xlink:href=\"#DejaVuSans-52\"/>\r\n       <use x=\"63.623047\" xlink:href=\"#DejaVuSans-48\"/>\r\n      </g>\r\n     </g>\r\n    </g>\r\n    <g id=\"xtick_4\">\r\n     <g id=\"line2d_4\">\r\n      <g>\r\n       <use style=\"stroke:#000000;stroke-width:0.8;\" x=\"173.510479\" xlink:href=\"#m1da78dc6e7\" y=\"106.036364\"/>\r\n      </g>\r\n     </g>\r\n     <g id=\"text_4\">\r\n      <!-- 60 -->\r\n      <defs>\r\n       <path d=\"M 33.015625 40.375 \r\nQ 26.375 40.375 22.484375 35.828125 \r\nQ 18.609375 31.296875 18.609375 23.390625 \r\nQ 18.609375 15.53125 22.484375 10.953125 \r\nQ 26.375 6.390625 33.015625 6.390625 \r\nQ 39.65625 6.390625 43.53125 10.953125 \r\nQ 47.40625 15.53125 47.40625 23.390625 \r\nQ 47.40625 31.296875 43.53125 35.828125 \r\nQ 39.65625 40.375 33.015625 40.375 \r\nz\r\nM 52.59375 71.296875 \r\nL 52.59375 62.3125 \r\nQ 48.875 64.0625 45.09375 64.984375 \r\nQ 41.3125 65.921875 37.59375 65.921875 \r\nQ 27.828125 65.921875 22.671875 59.328125 \r\nQ 17.53125 52.734375 16.796875 39.40625 \r\nQ 19.671875 43.65625 24.015625 45.921875 \r\nQ 28.375 48.1875 33.59375 48.1875 \r\nQ 44.578125 48.1875 50.953125 41.515625 \r\nQ 57.328125 34.859375 57.328125 23.390625 \r\nQ 57.328125 12.15625 50.6875 5.359375 \r\nQ 44.046875 -1.421875 33.015625 -1.421875 \r\nQ 20.359375 -1.421875 13.671875 8.265625 \r\nQ 6.984375 17.96875 6.984375 36.375 \r\nQ 6.984375 53.65625 15.1875 63.9375 \r\nQ 23.390625 74.21875 37.203125 74.21875 \r\nQ 40.921875 74.21875 44.703125 73.484375 \r\nQ 48.484375 72.75 52.59375 71.296875 \r\nz\r\n\" id=\"DejaVuSans-54\"/>\r\n      </defs>\r\n      <g transform=\"translate(167.147979 120.634801)scale(0.1 -0.1)\">\r\n       <use xlink:href=\"#DejaVuSans-54\"/>\r\n       <use x=\"63.623047\" xlink:href=\"#DejaVuSans-48\"/>\r\n      </g>\r\n     </g>\r\n    </g>\r\n    <g id=\"xtick_5\">\r\n     <g id=\"line2d_5\">\r\n      <g>\r\n       <use style=\"stroke:#000000;stroke-width:0.8;\" x=\"214.11937\" xlink:href=\"#m1da78dc6e7\" y=\"106.036364\"/>\r\n      </g>\r\n     </g>\r\n     <g id=\"text_5\">\r\n      <!-- 80 -->\r\n      <defs>\r\n       <path d=\"M 31.78125 34.625 \r\nQ 24.75 34.625 20.71875 30.859375 \r\nQ 16.703125 27.09375 16.703125 20.515625 \r\nQ 16.703125 13.921875 20.71875 10.15625 \r\nQ 24.75 6.390625 31.78125 6.390625 \r\nQ 38.8125 6.390625 42.859375 10.171875 \r\nQ 46.921875 13.96875 46.921875 20.515625 \r\nQ 46.921875 27.09375 42.890625 30.859375 \r\nQ 38.875 34.625 31.78125 34.625 \r\nz\r\nM 21.921875 38.8125 \r\nQ 15.578125 40.375 12.03125 44.71875 \r\nQ 8.5 49.078125 8.5 55.328125 \r\nQ 8.5 64.0625 14.71875 69.140625 \r\nQ 20.953125 74.21875 31.78125 74.21875 \r\nQ 42.671875 74.21875 48.875 69.140625 \r\nQ 55.078125 64.0625 55.078125 55.328125 \r\nQ 55.078125 49.078125 51.53125 44.71875 \r\nQ 48 40.375 41.703125 38.8125 \r\nQ 48.828125 37.15625 52.796875 32.3125 \r\nQ 56.78125 27.484375 56.78125 20.515625 \r\nQ 56.78125 9.90625 50.3125 4.234375 \r\nQ 43.84375 -1.421875 31.78125 -1.421875 \r\nQ 19.734375 -1.421875 13.25 4.234375 \r\nQ 6.78125 9.90625 6.78125 20.515625 \r\nQ 6.78125 27.484375 10.78125 32.3125 \r\nQ 14.796875 37.15625 21.921875 38.8125 \r\nz\r\nM 18.3125 54.390625 \r\nQ 18.3125 48.734375 21.84375 45.5625 \r\nQ 25.390625 42.390625 31.78125 42.390625 \r\nQ 38.140625 42.390625 41.71875 45.5625 \r\nQ 45.3125 48.734375 45.3125 54.390625 \r\nQ 45.3125 60.0625 41.71875 63.234375 \r\nQ 38.140625 66.40625 31.78125 66.40625 \r\nQ 25.390625 66.40625 21.84375 63.234375 \r\nQ 18.3125 60.0625 18.3125 54.390625 \r\nz\r\n\" id=\"DejaVuSans-56\"/>\r\n      </defs>\r\n      <g transform=\"translate(207.75687 120.634801)scale(0.1 -0.1)\">\r\n       <use xlink:href=\"#DejaVuSans-56\"/>\r\n       <use x=\"63.623047\" xlink:href=\"#DejaVuSans-48\"/>\r\n      </g>\r\n     </g>\r\n    </g>\r\n    <g id=\"xtick_6\">\r\n     <g id=\"line2d_6\">\r\n      <g>\r\n       <use style=\"stroke:#000000;stroke-width:0.8;\" x=\"254.728261\" xlink:href=\"#m1da78dc6e7\" y=\"106.036364\"/>\r\n      </g>\r\n     </g>\r\n     <g id=\"text_6\">\r\n      <!-- 100 -->\r\n      <defs>\r\n       <path d=\"M 12.40625 8.296875 \r\nL 28.515625 8.296875 \r\nL 28.515625 63.921875 \r\nL 10.984375 60.40625 \r\nL 10.984375 69.390625 \r\nL 28.421875 72.90625 \r\nL 38.28125 72.90625 \r\nL 38.28125 8.296875 \r\nL 54.390625 8.296875 \r\nL 54.390625 0 \r\nL 12.40625 0 \r\nz\r\n\" id=\"DejaVuSans-49\"/>\r\n      </defs>\r\n      <g transform=\"translate(245.184511 120.634801)scale(0.1 -0.1)\">\r\n       <use xlink:href=\"#DejaVuSans-49\"/>\r\n       <use x=\"63.623047\" xlink:href=\"#DejaVuSans-48\"/>\r\n       <use x=\"127.246094\" xlink:href=\"#DejaVuSans-48\"/>\r\n      </g>\r\n     </g>\r\n    </g>\r\n    <g id=\"xtick_7\">\r\n     <g id=\"line2d_7\">\r\n      <g>\r\n       <use style=\"stroke:#000000;stroke-width:0.8;\" x=\"295.337151\" xlink:href=\"#m1da78dc6e7\" y=\"106.036364\"/>\r\n      </g>\r\n     </g>\r\n     <g id=\"text_7\">\r\n      <!-- 120 -->\r\n      <g transform=\"translate(285.793401 120.634801)scale(0.1 -0.1)\">\r\n       <use xlink:href=\"#DejaVuSans-49\"/>\r\n       <use x=\"63.623047\" xlink:href=\"#DejaVuSans-50\"/>\r\n       <use x=\"127.246094\" xlink:href=\"#DejaVuSans-48\"/>\r\n      </g>\r\n     </g>\r\n    </g>\r\n    <g id=\"xtick_8\">\r\n     <g id=\"line2d_8\">\r\n      <g>\r\n       <use style=\"stroke:#000000;stroke-width:0.8;\" x=\"335.946042\" xlink:href=\"#m1da78dc6e7\" y=\"106.036364\"/>\r\n      </g>\r\n     </g>\r\n     <g id=\"text_8\">\r\n      <!-- 140 -->\r\n      <g transform=\"translate(326.402292 120.634801)scale(0.1 -0.1)\">\r\n       <use xlink:href=\"#DejaVuSans-49\"/>\r\n       <use x=\"63.623047\" xlink:href=\"#DejaVuSans-52\"/>\r\n       <use x=\"127.246094\" xlink:href=\"#DejaVuSans-48\"/>\r\n      </g>\r\n     </g>\r\n    </g>\r\n   </g>\r\n   <g id=\"matplotlib.axis_2\">\r\n    <g id=\"ytick_1\">\r\n     <g id=\"line2d_9\">\r\n      <defs>\r\n       <path d=\"M 0 0 \r\nL -3.5 0 \r\n\" id=\"m3af997e2f4\" style=\"stroke:#000000;stroke-width:0.8;\"/>\r\n      </defs>\r\n      <g>\r\n       <use style=\"stroke:#000000;stroke-width:0.8;\" x=\"36.465625\" xlink:href=\"#m3af997e2f4\" y=\"86.992502\"/>\r\n      </g>\r\n     </g>\r\n     <g id=\"text_9\">\r\n      <!-- 0.10 -->\r\n      <defs>\r\n       <path d=\"M 10.6875 12.40625 \r\nL 21 12.40625 \r\nL 21 0 \r\nL 10.6875 0 \r\nz\r\n\" id=\"DejaVuSans-46\"/>\r\n      </defs>\r\n      <g transform=\"translate(7.2 90.791721)scale(0.1 -0.1)\">\r\n       <use xlink:href=\"#DejaVuSans-48\"/>\r\n       <use x=\"63.623047\" xlink:href=\"#DejaVuSans-46\"/>\r\n       <use x=\"95.410156\" xlink:href=\"#DejaVuSans-49\"/>\r\n       <use x=\"159.033203\" xlink:href=\"#DejaVuSans-48\"/>\r\n      </g>\r\n     </g>\r\n    </g>\r\n    <g id=\"ytick_2\">\r\n     <g id=\"line2d_10\">\r\n      <g>\r\n       <use style=\"stroke:#000000;stroke-width:0.8;\" x=\"36.465625\" xlink:href=\"#m3af997e2f4\" y=\"57.889903\"/>\r\n      </g>\r\n     </g>\r\n     <g id=\"text_10\">\r\n      <!-- 0.15 -->\r\n      <defs>\r\n       <path d=\"M 10.796875 72.90625 \r\nL 49.515625 72.90625 \r\nL 49.515625 64.59375 \r\nL 19.828125 64.59375 \r\nL 19.828125 46.734375 \r\nQ 21.96875 47.46875 24.109375 47.828125 \r\nQ 26.265625 48.1875 28.421875 48.1875 \r\nQ 40.625 48.1875 47.75 41.5 \r\nQ 54.890625 34.8125 54.890625 23.390625 \r\nQ 54.890625 11.625 47.5625 5.09375 \r\nQ 40.234375 -1.421875 26.90625 -1.421875 \r\nQ 22.3125 -1.421875 17.546875 -0.640625 \r\nQ 12.796875 0.140625 7.71875 1.703125 \r\nL 7.71875 11.625 \r\nQ 12.109375 9.234375 16.796875 8.0625 \r\nQ 21.484375 6.890625 26.703125 6.890625 \r\nQ 35.15625 6.890625 40.078125 11.328125 \r\nQ 45.015625 15.765625 45.015625 23.390625 \r\nQ 45.015625 31 40.078125 35.4375 \r\nQ 35.15625 39.890625 26.703125 39.890625 \r\nQ 22.75 39.890625 18.8125 39.015625 \r\nQ 14.890625 38.140625 10.796875 36.28125 \r\nz\r\n\" id=\"DejaVuSans-53\"/>\r\n      </defs>\r\n      <g transform=\"translate(7.2 61.689122)scale(0.1 -0.1)\">\r\n       <use xlink:href=\"#DejaVuSans-48\"/>\r\n       <use x=\"63.623047\" xlink:href=\"#DejaVuSans-46\"/>\r\n       <use x=\"95.410156\" xlink:href=\"#DejaVuSans-49\"/>\r\n       <use x=\"159.033203\" xlink:href=\"#DejaVuSans-53\"/>\r\n      </g>\r\n     </g>\r\n    </g>\r\n    <g id=\"ytick_3\">\r\n     <g id=\"line2d_11\">\r\n      <g>\r\n       <use style=\"stroke:#000000;stroke-width:0.8;\" x=\"36.465625\" xlink:href=\"#m3af997e2f4\" y=\"28.787304\"/>\r\n      </g>\r\n     </g>\r\n     <g id=\"text_11\">\r\n      <!-- 0.20 -->\r\n      <g transform=\"translate(7.2 32.586523)scale(0.1 -0.1)\">\r\n       <use xlink:href=\"#DejaVuSans-48\"/>\r\n       <use x=\"63.623047\" xlink:href=\"#DejaVuSans-46\"/>\r\n       <use x=\"95.410156\" xlink:href=\"#DejaVuSans-50\"/>\r\n       <use x=\"159.033203\" xlink:href=\"#DejaVuSans-48\"/>\r\n      </g>\r\n     </g>\r\n    </g>\r\n   </g>\r\n   <g id=\"line2d_12\">\r\n    <path clip-path=\"url(#p22fdd2de15)\" d=\"M 51.683807 101.543802 \r\nL 52.29294 89.94956 \r\nL 52.902074 82.967887 \r\nL 53.511207 78.981582 \r\nL 53.917296 77.434406 \r\nL 54.323385 76.500451 \r\nL 54.729474 76.007657 \r\nL 55.135563 75.82643 \r\nL 55.541651 75.859826 \r\nL 56.150785 76.160335 \r\nL 57.369052 77.134446 \r\nL 58.993407 78.410089 \r\nL 60.414718 79.223519 \r\nL 61.83603 79.760281 \r\nL 63.460385 80.128486 \r\nL 65.693874 80.38059 \r\nL 69.14563 80.513498 \r\nL 78.079586 80.553817 \r\nL 356.047443 80.554644 \r\nL 356.047443 80.554644 \r\n\" style=\"fill:none;stroke:#ff0000;stroke-linecap:square;stroke-width:1.5;\"/>\r\n   </g>\r\n   <g id=\"line2d_13\">\r\n    <path clip-path=\"url(#p22fdd2de15)\" d=\"M 51.683807 57.889903 \r\nL 52.089896 52.391035 \r\nL 52.495985 49.651932 \r\nL 52.699029 49.049705 \r\nL 52.902074 48.844575 \r\nL 53.105118 48.965505 \r\nL 53.511207 49.950553 \r\nL 54.12034 52.612978 \r\nL 57.369052 69.193245 \r\nL 58.384274 72.565213 \r\nL 59.196452 74.606307 \r\nL 60.008629 76.167515 \r\nL 60.820807 77.344115 \r\nL 61.83603 78.401279 \r\nL 62.851252 79.122437 \r\nL 64.069519 79.684685 \r\nL 65.49083 80.073343 \r\nL 67.31823 80.332728 \r\nL 70.160852 80.489565 \r\nL 76.45523 80.550609 \r\nL 143.053811 80.554644 \r\nL 356.047443 80.554644 \r\nL 356.047443 80.554644 \r\n\" style=\"fill:none;stroke:#0000ff;stroke-linecap:square;stroke-width:1.5;\"/>\r\n   </g>\r\n   <g id=\"line2d_14\">\r\n    <path clip-path=\"url(#p22fdd2de15)\" d=\"M 51.683807 14.236004 \r\nL 52.089896 11.704146 \r\nL 52.29294 11.692562 \r\nL 52.495985 12.316509 \r\nL 52.902074 14.993609 \r\nL 53.511207 21.225304 \r\nL 56.150785 51.578733 \r\nL 57.166007 59.950157 \r\nL 57.978185 65.105939 \r\nL 58.790363 69.094186 \r\nL 59.602541 72.126722 \r\nL 60.414718 74.401817 \r\nL 61.226896 76.090372 \r\nL 62.039074 77.332589 \r\nL 62.851252 78.23975 \r\nL 63.866474 79.031925 \r\nL 64.881696 79.558321 \r\nL 66.099963 79.959342 \r\nL 67.724319 80.257602 \r\nL 70.160852 80.451471 \r\nL 74.62783 80.540286 \r\nL 95.13532 80.554643 \r\nL 356.047443 80.554644 \r\nL 356.047443 80.554644 \r\n\" style=\"fill:none;stroke:#0000ff;stroke-linecap:square;stroke-width:1.5;\"/>\r\n   </g>\r\n   <g id=\"patch_3\">\r\n    <path d=\"M 36.465625 106.036364 \r\nL 36.465625 7.2 \r\n\" style=\"fill:none;stroke:#000000;stroke-linecap:square;stroke-linejoin:miter;stroke-width:0.8;\"/>\r\n   </g>\r\n   <g id=\"patch_4\">\r\n    <path d=\"M 371.265625 106.036364 \r\nL 371.265625 7.2 \r\n\" style=\"fill:none;stroke:#000000;stroke-linecap:square;stroke-linejoin:miter;stroke-width:0.8;\"/>\r\n   </g>\r\n   <g id=\"patch_5\">\r\n    <path d=\"M 36.465625 106.036364 \r\nL 371.265625 106.036364 \r\n\" style=\"fill:none;stroke:#000000;stroke-linecap:square;stroke-linejoin:miter;stroke-width:0.8;\"/>\r\n   </g>\r\n   <g id=\"patch_6\">\r\n    <path d=\"M 36.465625 7.2 \r\nL 371.265625 7.2 \r\n\" style=\"fill:none;stroke:#000000;stroke-linecap:square;stroke-linejoin:miter;stroke-width:0.8;\"/>\r\n   </g>\r\n  </g>\r\n  <g id=\"axes_2\">\r\n   <g id=\"patch_7\">\r\n    <path d=\"M 36.465625 224.64 \r\nL 371.265625 224.64 \r\nL 371.265625 125.803636 \r\nL 36.465625 125.803636 \r\nz\r\n\" style=\"fill:#ffffff;\"/>\r\n   </g>\r\n   <g id=\"matplotlib.axis_3\">\r\n    <g id=\"xtick_9\">\r\n     <g id=\"line2d_15\">\r\n      <g>\r\n       <use style=\"stroke:#000000;stroke-width:0.8;\" x=\"51.683807\" xlink:href=\"#m1da78dc6e7\" y=\"224.64\"/>\r\n      </g>\r\n     </g>\r\n     <g id=\"text_12\">\r\n      <!-- 0 -->\r\n      <g transform=\"translate(48.502557 239.238437)scale(0.1 -0.1)\">\r\n       <use xlink:href=\"#DejaVuSans-48\"/>\r\n      </g>\r\n     </g>\r\n    </g>\r\n    <g id=\"xtick_10\">\r\n     <g id=\"line2d_16\">\r\n      <g>\r\n       <use style=\"stroke:#000000;stroke-width:0.8;\" x=\"92.292698\" xlink:href=\"#m1da78dc6e7\" y=\"224.64\"/>\r\n      </g>\r\n     </g>\r\n     <g id=\"text_13\">\r\n      <!-- 20 -->\r\n      <g transform=\"translate(85.930198 239.238437)scale(0.1 -0.1)\">\r\n       <use xlink:href=\"#DejaVuSans-50\"/>\r\n       <use x=\"63.623047\" xlink:href=\"#DejaVuSans-48\"/>\r\n      </g>\r\n     </g>\r\n    </g>\r\n    <g id=\"xtick_11\">\r\n     <g id=\"line2d_17\">\r\n      <g>\r\n       <use style=\"stroke:#000000;stroke-width:0.8;\" x=\"132.901588\" xlink:href=\"#m1da78dc6e7\" y=\"224.64\"/>\r\n      </g>\r\n     </g>\r\n     <g id=\"text_14\">\r\n      <!-- 40 -->\r\n      <g transform=\"translate(126.539088 239.238437)scale(0.1 -0.1)\">\r\n       <use xlink:href=\"#DejaVuSans-52\"/>\r\n       <use x=\"63.623047\" xlink:href=\"#DejaVuSans-48\"/>\r\n      </g>\r\n     </g>\r\n    </g>\r\n    <g id=\"xtick_12\">\r\n     <g id=\"line2d_18\">\r\n      <g>\r\n       <use style=\"stroke:#000000;stroke-width:0.8;\" x=\"173.510479\" xlink:href=\"#m1da78dc6e7\" y=\"224.64\"/>\r\n      </g>\r\n     </g>\r\n     <g id=\"text_15\">\r\n      <!-- 60 -->\r\n      <g transform=\"translate(167.147979 239.238437)scale(0.1 -0.1)\">\r\n       <use xlink:href=\"#DejaVuSans-54\"/>\r\n       <use x=\"63.623047\" xlink:href=\"#DejaVuSans-48\"/>\r\n      </g>\r\n     </g>\r\n    </g>\r\n    <g id=\"xtick_13\">\r\n     <g id=\"line2d_19\">\r\n      <g>\r\n       <use style=\"stroke:#000000;stroke-width:0.8;\" x=\"214.11937\" xlink:href=\"#m1da78dc6e7\" y=\"224.64\"/>\r\n      </g>\r\n     </g>\r\n     <g id=\"text_16\">\r\n      <!-- 80 -->\r\n      <g transform=\"translate(207.75687 239.238437)scale(0.1 -0.1)\">\r\n       <use xlink:href=\"#DejaVuSans-56\"/>\r\n       <use x=\"63.623047\" xlink:href=\"#DejaVuSans-48\"/>\r\n      </g>\r\n     </g>\r\n    </g>\r\n    <g id=\"xtick_14\">\r\n     <g id=\"line2d_20\">\r\n      <g>\r\n       <use style=\"stroke:#000000;stroke-width:0.8;\" x=\"254.728261\" xlink:href=\"#m1da78dc6e7\" y=\"224.64\"/>\r\n      </g>\r\n     </g>\r\n     <g id=\"text_17\">\r\n      <!-- 100 -->\r\n      <g transform=\"translate(245.184511 239.238437)scale(0.1 -0.1)\">\r\n       <use xlink:href=\"#DejaVuSans-49\"/>\r\n       <use x=\"63.623047\" xlink:href=\"#DejaVuSans-48\"/>\r\n       <use x=\"127.246094\" xlink:href=\"#DejaVuSans-48\"/>\r\n      </g>\r\n     </g>\r\n    </g>\r\n    <g id=\"xtick_15\">\r\n     <g id=\"line2d_21\">\r\n      <g>\r\n       <use style=\"stroke:#000000;stroke-width:0.8;\" x=\"295.337151\" xlink:href=\"#m1da78dc6e7\" y=\"224.64\"/>\r\n      </g>\r\n     </g>\r\n     <g id=\"text_18\">\r\n      <!-- 120 -->\r\n      <g transform=\"translate(285.793401 239.238437)scale(0.1 -0.1)\">\r\n       <use xlink:href=\"#DejaVuSans-49\"/>\r\n       <use x=\"63.623047\" xlink:href=\"#DejaVuSans-50\"/>\r\n       <use x=\"127.246094\" xlink:href=\"#DejaVuSans-48\"/>\r\n      </g>\r\n     </g>\r\n    </g>\r\n    <g id=\"xtick_16\">\r\n     <g id=\"line2d_22\">\r\n      <g>\r\n       <use style=\"stroke:#000000;stroke-width:0.8;\" x=\"335.946042\" xlink:href=\"#m1da78dc6e7\" y=\"224.64\"/>\r\n      </g>\r\n     </g>\r\n     <g id=\"text_19\">\r\n      <!-- 140 -->\r\n      <g transform=\"translate(326.402292 239.238437)scale(0.1 -0.1)\">\r\n       <use xlink:href=\"#DejaVuSans-49\"/>\r\n       <use x=\"63.623047\" xlink:href=\"#DejaVuSans-52\"/>\r\n       <use x=\"127.246094\" xlink:href=\"#DejaVuSans-48\"/>\r\n      </g>\r\n     </g>\r\n    </g>\r\n   </g>\r\n   <g id=\"matplotlib.axis_4\">\r\n    <g id=\"ytick_4\">\r\n     <g id=\"line2d_23\">\r\n      <g>\r\n       <use style=\"stroke:#000000;stroke-width:0.8;\" x=\"36.465625\" xlink:href=\"#m3af997e2f4\" y=\"220.147438\"/>\r\n      </g>\r\n     </g>\r\n     <g id=\"text_20\">\r\n      <!-- 0.00 -->\r\n      <g transform=\"translate(7.2 223.946657)scale(0.1 -0.1)\">\r\n       <use xlink:href=\"#DejaVuSans-48\"/>\r\n       <use x=\"63.623047\" xlink:href=\"#DejaVuSans-46\"/>\r\n       <use x=\"95.410156\" xlink:href=\"#DejaVuSans-48\"/>\r\n       <use x=\"159.033203\" xlink:href=\"#DejaVuSans-48\"/>\r\n      </g>\r\n     </g>\r\n    </g>\r\n    <g id=\"ytick_5\">\r\n     <g id=\"line2d_24\">\r\n      <g>\r\n       <use style=\"stroke:#000000;stroke-width:0.8;\" x=\"36.465625\" xlink:href=\"#m3af997e2f4\" y=\"188.416261\"/>\r\n      </g>\r\n     </g>\r\n     <g id=\"text_21\">\r\n      <!-- 0.05 -->\r\n      <g transform=\"translate(7.2 192.215479)scale(0.1 -0.1)\">\r\n       <use xlink:href=\"#DejaVuSans-48\"/>\r\n       <use x=\"63.623047\" xlink:href=\"#DejaVuSans-46\"/>\r\n       <use x=\"95.410156\" xlink:href=\"#DejaVuSans-48\"/>\r\n       <use x=\"159.033203\" xlink:href=\"#DejaVuSans-53\"/>\r\n      </g>\r\n     </g>\r\n    </g>\r\n    <g id=\"ytick_6\">\r\n     <g id=\"line2d_25\">\r\n      <g>\r\n       <use style=\"stroke:#000000;stroke-width:0.8;\" x=\"36.465625\" xlink:href=\"#m3af997e2f4\" y=\"156.685083\"/>\r\n      </g>\r\n     </g>\r\n     <g id=\"text_22\">\r\n      <!-- 0.10 -->\r\n      <g transform=\"translate(7.2 160.484302)scale(0.1 -0.1)\">\r\n       <use xlink:href=\"#DejaVuSans-48\"/>\r\n       <use x=\"63.623047\" xlink:href=\"#DejaVuSans-46\"/>\r\n       <use x=\"95.410156\" xlink:href=\"#DejaVuSans-49\"/>\r\n       <use x=\"159.033203\" xlink:href=\"#DejaVuSans-48\"/>\r\n      </g>\r\n     </g>\r\n    </g>\r\n   </g>\r\n   <g id=\"line2d_26\">\r\n    <path clip-path=\"url(#p60c0f6a646)\" d=\"M 51.683807 220.147438 \r\nL 52.29294 194.607268 \r\nL 52.902074 177.591833 \r\nL 53.511207 166.39057 \r\nL 54.12034 159.126645 \r\nL 54.729474 154.507827 \r\nL 55.338607 151.648911 \r\nL 55.94774 149.946871 \r\nL 56.556874 148.993596 \r\nL 57.166007 148.5151 \r\nL 57.77514 148.329269 \r\nL 58.587318 148.336531 \r\nL 60.008629 148.627807 \r\nL 62.851252 149.221746 \r\nL 65.287785 149.48273 \r\nL 68.942585 149.622985 \r\nL 77.876541 149.664823 \r\nL 356.047443 149.665751 \r\nL 356.047443 149.665751 \r\n\" style=\"fill:none;stroke:#ff0000;stroke-linecap:square;stroke-width:1.5;\"/>\r\n   </g>\r\n   <g id=\"line2d_27\">\r\n    <path clip-path=\"url(#p60c0f6a646)\" d=\"M 51.683807 220.147438 \r\nL 52.29294 186.547563 \r\nL 52.902074 165.68134 \r\nL 53.511207 153.17739 \r\nL 54.12034 146.085829 \r\nL 54.526429 143.360424 \r\nL 54.932518 141.739012 \r\nL 55.338607 140.910466 \r\nL 55.744696 140.64054 \r\nL 56.150785 140.754046 \r\nL 56.759918 141.368668 \r\nL 57.77514 142.913748 \r\nL 59.399496 145.387657 \r\nL 60.617763 146.801717 \r\nL 61.632985 147.665922 \r\nL 62.851252 148.393883 \r\nL 64.069519 148.871174 \r\nL 65.693874 149.250182 \r\nL 67.927363 149.500134 \r\nL 71.379119 149.627549 \r\nL 80.719164 149.66513 \r\nL 356.047443 149.665751 \r\nL 356.047443 149.665751 \r\n\" style=\"fill:none;stroke:#0000ff;stroke-linecap:square;stroke-width:1.5;\"/>\r\n   </g>\r\n   <g id=\"line2d_28\">\r\n    <path clip-path=\"url(#p60c0f6a646)\" d=\"M 51.683807 220.147438 \r\nL 52.29294 178.678099 \r\nL 52.902074 154.067791 \r\nL 53.511207 140.297608 \r\nL 53.917296 135.103133 \r\nL 54.323385 132.094449 \r\nL 54.729474 130.648056 \r\nL 54.932518 130.35953 \r\nL 55.135563 130.296198 \r\nL 55.338607 130.417902 \r\nL 55.744696 131.08318 \r\nL 56.353829 132.752304 \r\nL 59.399496 142.341059 \r\nL 60.414718 144.495797 \r\nL 61.429941 146.085768 \r\nL 62.445163 147.222906 \r\nL 63.460385 148.018108 \r\nL 64.678652 148.651152 \r\nL 66.099963 149.097203 \r\nL 67.927363 149.40021 \r\nL 70.566941 149.579501 \r\nL 75.846097 149.657172 \r\nL 108.739298 149.665751 \r\nL 356.047443 149.665751 \r\nL 356.047443 149.665751 \r\n\" style=\"fill:none;stroke:#0000ff;stroke-linecap:square;stroke-width:1.5;\"/>\r\n   </g>\r\n   <g id=\"patch_8\">\r\n    <path d=\"M 36.465625 224.64 \r\nL 36.465625 125.803636 \r\n\" style=\"fill:none;stroke:#000000;stroke-linecap:square;stroke-linejoin:miter;stroke-width:0.8;\"/>\r\n   </g>\r\n   <g id=\"patch_9\">\r\n    <path d=\"M 371.265625 224.64 \r\nL 371.265625 125.803636 \r\n\" style=\"fill:none;stroke:#000000;stroke-linecap:square;stroke-linejoin:miter;stroke-width:0.8;\"/>\r\n   </g>\r\n   <g id=\"patch_10\">\r\n    <path d=\"M 36.465625 224.64 \r\nL 371.265625 224.64 \r\n\" style=\"fill:none;stroke:#000000;stroke-linecap:square;stroke-linejoin:miter;stroke-width:0.8;\"/>\r\n   </g>\r\n   <g id=\"patch_11\">\r\n    <path d=\"M 36.465625 125.803636 \r\nL 371.265625 125.803636 \r\n\" style=\"fill:none;stroke:#000000;stroke-linecap:square;stroke-linejoin:miter;stroke-width:0.8;\"/>\r\n   </g>\r\n  </g>\r\n </g>\r\n <defs>\r\n  <clipPath id=\"p22fdd2de15\">\r\n   <rect height=\"98.836364\" width=\"334.8\" x=\"36.465625\" y=\"7.2\"/>\r\n  </clipPath>\r\n  <clipPath id=\"p60c0f6a646\">\r\n   <rect height=\"98.836364\" width=\"334.8\" x=\"36.465625\" y=\"125.803636\"/>\r\n  </clipPath>\r\n </defs>\r\n</svg>\r\n",
            "image/png": "[encoded data removed]"
          },
          "metadata": {
            "needs_background": "light"
          }
        }
      ]
    },
    {
      "cell_type": "code",
      "metadata": {
        "id": "MqKOypmwb3pn",
        "colab_type": "code",
        "colab": {
          "base_uri": "https://localhost:8080/",
          "height": 67
        },
        "outputId": "7050955e-5d6f-402f-d4bd-1421c173b18e",
        "tags": []
      },
      "source": [
        "deriv_phi,pure_der = transfer_derivmat(x_FP,[JE,JI])\n",
        "print('deriv_matrix: ',deriv_phi)\n",
        "print('pure_deriv_phi, E: ',pure_der[0],'; I: ',pure_der[1])"
      ],
      "execution_count": 114,
      "outputs": [
        {
          "output_type": "stream",
          "name": "stdout",
          "text": "deriv_matrix:  [[ 0.69143638 -0.59265976]\n [ 0.69143638 -0.59265976]]\npure_deriv_phi, E:  [0.49388313] ; I:  [0.49388313]\n"
        }
      ]
    },
    {
      "cell_type": "code",
      "metadata": {
        "id": "alhehoYleUDn",
        "colab_type": "code",
        "colab": {
          "base_uri": "https://localhost:8080/",
          "height": 34
        },
        "outputId": "4db75996-9b3e-459b-a529-bd3ba5535c23",
        "tags": []
      },
      "source": [
        "# calculate eigenvalue\n",
        "lambdaJ,vJ = la.eig(deriv_phi)\n",
        "print('eigenvalues: ',lambdaJ)"
      ],
      "execution_count": 116,
      "outputs": [
        {
          "output_type": "stream",
          "name": "stdout",
          "text": "eigenvalues:  [9.87766259e-02 2.22044605e-16]\n"
        }
      ]
    },
    {
      "cell_type": "markdown",
      "metadata": {
        "id": "BNmrN2GqkP8d",
        "colab_type": "text"
      },
      "source": [
        "Previously, we use the original connectivity matrix to describe the network dynamics, the observations indicate a transient fluctuation before neuron finally settles down. However, non-zero eigenvalue of the system is negative, which intuitively suggests a temporally stable dynamics. Considering the simulating observations and the property of network with negative eigenvalue, we conclude that, for asymmetric network connectivity, eigenvalues/vectors can not fully account for the properties of the neuronal activity. Asymmetric connectivity matrix can not be diagnalized, but can be reduced to up-triangle matrix using QR decomposition or so. Here we consider generating a orthonormal basis vectors by using SVD."
      ]
    },
    {
      "cell_type": "code",
      "metadata": {
        "id": "MjM6nvsQ16Wg",
        "colab_type": "code",
        "colab": {
          "base_uri": "https://localhost:8080/",
          "height": 84
        },
        "outputId": "c825c711-baec-48d2-f1f9-f345e669bc12",
        "tags": []
      },
      "source": [
        "# using SVD to find left(u) and right(v) singular vectors and singular values\n",
        "u,sig,vh=la.svd(deriv_phi)\n",
        "m = u.copy()\n",
        "for i in range(2):\n",
        "  m[:,i] = m[:,i]*sig[i] # m absorbs the singular values, thus we can use m@n to alternatively represents connectivity matrix\n",
        "n = vh.T\n",
        "deriv_phi_est = m@n.T\n",
        "print('original conn: ',deriv_phi)\n",
        "print('reconstructed conn(using SVD): ',deriv_phi_est)\n"
      ],
      "execution_count": 118,
      "outputs": [
        {
          "output_type": "stream",
          "name": "stdout",
          "text": "original conn:  [[ 0.69143638 -0.59265976]\n [ 0.69143638 -0.59265976]]\nreconstructed conn(using SVD):  [[ 0.69143638 -0.59265976]\n [ 0.69143638 -0.59265976]]\n"
        }
      ]
    },
    {
      "cell_type": "markdown",
      "metadata": {
        "id": "q9bqdePe8-4A",
        "colab_type": "text"
      },
      "source": [
        "Intuitively, eigen-decomposition generates a diagonal matrix thus find an invariant direction, which means $Av=\\lambda v$; SVD however, can transfer (rotate and stretch) one vector to another, which means $Av=\\sigma u$.  \n",
        "The eigenvectors of asymmetric matrix are not orthogonal, we then use SVD and corresponding left/right singular vectors, to constitute the orthogonal basis vectors needed and analyze the temporal dynamics. "
      ]
    },
    {
      "cell_type": "code",
      "execution_count": 120,
      "metadata": {
        "tags": []
      },
      "outputs": [
        {
          "output_type": "stream",
          "name": "stdout",
          "text": "[[-9.10675494e-01 -2.22158750e-17]\n [-9.10675494e-01  2.22158750e-17]] [[-0.7592566  -0.65079137]\n [ 0.65079137 -0.7592566 ]]\n[[ 7.5000000e-02]\n [-6.9388939e-18]]\n[[0.15]\n [0.  ]]\n[[0.225]\n [0.   ]]\n"
        }
      ],
      "source": [
        "# singular value decomposition -- for deriv_phi\n",
        "u,sig,vh = la.svd(deriv_phi)\n",
        "m = u.copy()\n",
        "for i in range(len(sig)):\n",
        "    m[:,i]=m[:,i]*sig[i]\n",
        "n = vh.T\n",
        "print(m,n)\n",
        "# previously, we have x0, now we use \\kappa0(m)and v0(I)\n",
        "# Iamp_typical = np.array([0.075,0.150,0.225])\n",
        "kappa_typical = Iamp_typical.copy()\n",
        "kappa_typical = kappa_typical/2.0-kappa_FP\n",
        "nu_typical = Iamp_typical.copy()/2.0\n",
        "\n",
        "num_typical,nt = len(kappa_typical),len(tt)\n",
        "\n",
        "kappa_series,nu_series = np.zeros((num_typical,ntt)),np.zeros((num_typical,ntt))\n",
        "x_series_ortho = np.zeros((num_typical,2,ntt))\n",
        "m,I = np.array([[1,1]]).T,np.array([[1,-1]]).T\n",
        "n = -n[:,0]\n",
        "for i in range(num_typical):\n",
        "    kappa_series[i,0] = kappa_typical[i]\n",
        "    nu_series[i,0] = nu_typical[i]\n",
        "    print((kappa_series[i,0]+kappa_FP)*m+nu_series[i,0]*I)\n",
        "    for it in range(1,nt):\n",
        "        delta_kappa = -kappa_series[i,it-1] + n.T@(kappa_series[i,it-1]*m+nu_series[i,it-1]*I)\n",
        "        delta_kappa *=dt\n",
        "        kappa_series[i,it] =kappa_series[i,it-1]+delta_kappa\n",
        "        delta_nu = -nu_series[i,it-1]        \n",
        "        delta_nu *=dt\n",
        "        nu_series[i,it] =nu_series[i,it-1]+delta_nu\n",
        "        x_series_ortho[i,:,it] = np.squeeze((kappa_series[i,it]+kappa_FP)*m+(nu_series[i,it]+nu_FP)*I)\n",
        "\n"
      ]
    },
    {
      "cell_type": "code",
      "execution_count": 122,
      "metadata": {
        "tags": []
      },
      "outputs": [
        {
          "output_type": "stream",
          "name": "stdout",
          "text": "0.11106062414850597\n"
        },
        {
          "output_type": "display_data",
          "data": {
            "text/plain": "<Figure size 432x288 with 2 Axes>",
            "image/svg+xml": "<?xml version=\"1.0\" encoding=\"utf-8\" standalone=\"no\"?>\r\n<!DOCTYPE svg PUBLIC \"-//W3C//DTD SVG 1.1//EN\"\r\n  \"http://www.w3.org/Graphics/SVG/1.1/DTD/svg11.dtd\">\r\n<!-- Created with matplotlib (https://matplotlib.org/) -->\r\n<svg height=\"248.518125pt\" version=\"1.1\" viewBox=\"0 0 378.465625 248.518125\" width=\"378.465625pt\" xmlns=\"http://www.w3.org/2000/svg\" xmlns:xlink=\"http://www.w3.org/1999/xlink\">\r\n <defs>\r\n  <style type=\"text/css\">\r\n*{stroke-linecap:butt;stroke-linejoin:round;}\r\n  </style>\r\n </defs>\r\n <g id=\"figure_1\">\r\n  <g id=\"patch_1\">\r\n   <path d=\"M 0 248.518125 \r\nL 378.465625 248.518125 \r\nL 378.465625 0 \r\nL 0 0 \r\nz\r\n\" style=\"fill:none;\"/>\r\n  </g>\r\n  <g id=\"axes_1\">\r\n   <g id=\"patch_2\">\r\n    <path d=\"M 36.465625 106.036364 \r\nL 371.265625 106.036364 \r\nL 371.265625 7.2 \r\nL 36.465625 7.2 \r\nz\r\n\" style=\"fill:#ffffff;\"/>\r\n   </g>\r\n   <g id=\"matplotlib.axis_1\">\r\n    <g id=\"xtick_1\">\r\n     <g id=\"line2d_1\">\r\n      <defs>\r\n       <path d=\"M 0 0 \r\nL 0 3.5 \r\n\" id=\"m88fe8061dd\" style=\"stroke:#000000;stroke-width:0.8;\"/>\r\n      </defs>\r\n      <g>\r\n       <use style=\"stroke:#000000;stroke-width:0.8;\" x=\"51.480627\" xlink:href=\"#m88fe8061dd\" y=\"106.036364\"/>\r\n      </g>\r\n     </g>\r\n     <g id=\"text_1\">\r\n      <!-- 0 -->\r\n      <defs>\r\n       <path d=\"M 31.78125 66.40625 \r\nQ 24.171875 66.40625 20.328125 58.90625 \r\nQ 16.5 51.421875 16.5 36.375 \r\nQ 16.5 21.390625 20.328125 13.890625 \r\nQ 24.171875 6.390625 31.78125 6.390625 \r\nQ 39.453125 6.390625 43.28125 13.890625 \r\nQ 47.125 21.390625 47.125 36.375 \r\nQ 47.125 51.421875 43.28125 58.90625 \r\nQ 39.453125 66.40625 31.78125 66.40625 \r\nz\r\nM 31.78125 74.21875 \r\nQ 44.046875 74.21875 50.515625 64.515625 \r\nQ 56.984375 54.828125 56.984375 36.375 \r\nQ 56.984375 17.96875 50.515625 8.265625 \r\nQ 44.046875 -1.421875 31.78125 -1.421875 \r\nQ 19.53125 -1.421875 13.0625 8.265625 \r\nQ 6.59375 17.96875 6.59375 36.375 \r\nQ 6.59375 54.828125 13.0625 64.515625 \r\nQ 19.53125 74.21875 31.78125 74.21875 \r\nz\r\n\" id=\"DejaVuSans-48\"/>\r\n      </defs>\r\n      <g transform=\"translate(48.299377 120.634801)scale(0.1 -0.1)\">\r\n       <use xlink:href=\"#DejaVuSans-48\"/>\r\n      </g>\r\n     </g>\r\n    </g>\r\n    <g id=\"xtick_2\">\r\n     <g id=\"line2d_2\">\r\n      <g>\r\n       <use style=\"stroke:#000000;stroke-width:0.8;\" x=\"92.116626\" xlink:href=\"#m88fe8061dd\" y=\"106.036364\"/>\r\n      </g>\r\n     </g>\r\n     <g id=\"text_2\">\r\n      <!-- 20 -->\r\n      <defs>\r\n       <path d=\"M 19.1875 8.296875 \r\nL 53.609375 8.296875 \r\nL 53.609375 0 \r\nL 7.328125 0 \r\nL 7.328125 8.296875 \r\nQ 12.9375 14.109375 22.625 23.890625 \r\nQ 32.328125 33.6875 34.8125 36.53125 \r\nQ 39.546875 41.84375 41.421875 45.53125 \r\nQ 43.3125 49.21875 43.3125 52.78125 \r\nQ 43.3125 58.59375 39.234375 62.25 \r\nQ 35.15625 65.921875 28.609375 65.921875 \r\nQ 23.96875 65.921875 18.8125 64.3125 \r\nQ 13.671875 62.703125 7.8125 59.421875 \r\nL 7.8125 69.390625 \r\nQ 13.765625 71.78125 18.9375 73 \r\nQ 24.125 74.21875 28.421875 74.21875 \r\nQ 39.75 74.21875 46.484375 68.546875 \r\nQ 53.21875 62.890625 53.21875 53.421875 \r\nQ 53.21875 48.921875 51.53125 44.890625 \r\nQ 49.859375 40.875 45.40625 35.40625 \r\nQ 44.1875 33.984375 37.640625 27.21875 \r\nQ 31.109375 20.453125 19.1875 8.296875 \r\nz\r\n\" id=\"DejaVuSans-50\"/>\r\n      </defs>\r\n      <g transform=\"translate(85.754126 120.634801)scale(0.1 -0.1)\">\r\n       <use xlink:href=\"#DejaVuSans-50\"/>\r\n       <use x=\"63.623047\" xlink:href=\"#DejaVuSans-48\"/>\r\n      </g>\r\n     </g>\r\n    </g>\r\n    <g id=\"xtick_3\">\r\n     <g id=\"line2d_3\">\r\n      <g>\r\n       <use style=\"stroke:#000000;stroke-width:0.8;\" x=\"132.752626\" xlink:href=\"#m88fe8061dd\" y=\"106.036364\"/>\r\n      </g>\r\n     </g>\r\n     <g id=\"text_3\">\r\n      <!-- 40 -->\r\n      <defs>\r\n       <path d=\"M 37.796875 64.3125 \r\nL 12.890625 25.390625 \r\nL 37.796875 25.390625 \r\nz\r\nM 35.203125 72.90625 \r\nL 47.609375 72.90625 \r\nL 47.609375 25.390625 \r\nL 58.015625 25.390625 \r\nL 58.015625 17.1875 \r\nL 47.609375 17.1875 \r\nL 47.609375 0 \r\nL 37.796875 0 \r\nL 37.796875 17.1875 \r\nL 4.890625 17.1875 \r\nL 4.890625 26.703125 \r\nz\r\n\" id=\"DejaVuSans-52\"/>\r\n      </defs>\r\n      <g transform=\"translate(126.390126 120.634801)scale(0.1 -0.1)\">\r\n       <use xlink:href=\"#DejaVuSans-52\"/>\r\n       <use x=\"63.623047\" xlink:href=\"#DejaVuSans-48\"/>\r\n      </g>\r\n     </g>\r\n    </g>\r\n    <g id=\"xtick_4\">\r\n     <g id=\"line2d_4\">\r\n      <g>\r\n       <use style=\"stroke:#000000;stroke-width:0.8;\" x=\"173.388625\" xlink:href=\"#m88fe8061dd\" y=\"106.036364\"/>\r\n      </g>\r\n     </g>\r\n     <g id=\"text_4\">\r\n      <!-- 60 -->\r\n      <defs>\r\n       <path d=\"M 33.015625 40.375 \r\nQ 26.375 40.375 22.484375 35.828125 \r\nQ 18.609375 31.296875 18.609375 23.390625 \r\nQ 18.609375 15.53125 22.484375 10.953125 \r\nQ 26.375 6.390625 33.015625 6.390625 \r\nQ 39.65625 6.390625 43.53125 10.953125 \r\nQ 47.40625 15.53125 47.40625 23.390625 \r\nQ 47.40625 31.296875 43.53125 35.828125 \r\nQ 39.65625 40.375 33.015625 40.375 \r\nz\r\nM 52.59375 71.296875 \r\nL 52.59375 62.3125 \r\nQ 48.875 64.0625 45.09375 64.984375 \r\nQ 41.3125 65.921875 37.59375 65.921875 \r\nQ 27.828125 65.921875 22.671875 59.328125 \r\nQ 17.53125 52.734375 16.796875 39.40625 \r\nQ 19.671875 43.65625 24.015625 45.921875 \r\nQ 28.375 48.1875 33.59375 48.1875 \r\nQ 44.578125 48.1875 50.953125 41.515625 \r\nQ 57.328125 34.859375 57.328125 23.390625 \r\nQ 57.328125 12.15625 50.6875 5.359375 \r\nQ 44.046875 -1.421875 33.015625 -1.421875 \r\nQ 20.359375 -1.421875 13.671875 8.265625 \r\nQ 6.984375 17.96875 6.984375 36.375 \r\nQ 6.984375 53.65625 15.1875 63.9375 \r\nQ 23.390625 74.21875 37.203125 74.21875 \r\nQ 40.921875 74.21875 44.703125 73.484375 \r\nQ 48.484375 72.75 52.59375 71.296875 \r\nz\r\n\" id=\"DejaVuSans-54\"/>\r\n      </defs>\r\n      <g transform=\"translate(167.026125 120.634801)scale(0.1 -0.1)\">\r\n       <use xlink:href=\"#DejaVuSans-54\"/>\r\n       <use x=\"63.623047\" xlink:href=\"#DejaVuSans-48\"/>\r\n      </g>\r\n     </g>\r\n    </g>\r\n    <g id=\"xtick_5\">\r\n     <g id=\"line2d_5\">\r\n      <g>\r\n       <use style=\"stroke:#000000;stroke-width:0.8;\" x=\"214.024625\" xlink:href=\"#m88fe8061dd\" y=\"106.036364\"/>\r\n      </g>\r\n     </g>\r\n     <g id=\"text_5\">\r\n      <!-- 80 -->\r\n      <defs>\r\n       <path d=\"M 31.78125 34.625 \r\nQ 24.75 34.625 20.71875 30.859375 \r\nQ 16.703125 27.09375 16.703125 20.515625 \r\nQ 16.703125 13.921875 20.71875 10.15625 \r\nQ 24.75 6.390625 31.78125 6.390625 \r\nQ 38.8125 6.390625 42.859375 10.171875 \r\nQ 46.921875 13.96875 46.921875 20.515625 \r\nQ 46.921875 27.09375 42.890625 30.859375 \r\nQ 38.875 34.625 31.78125 34.625 \r\nz\r\nM 21.921875 38.8125 \r\nQ 15.578125 40.375 12.03125 44.71875 \r\nQ 8.5 49.078125 8.5 55.328125 \r\nQ 8.5 64.0625 14.71875 69.140625 \r\nQ 20.953125 74.21875 31.78125 74.21875 \r\nQ 42.671875 74.21875 48.875 69.140625 \r\nQ 55.078125 64.0625 55.078125 55.328125 \r\nQ 55.078125 49.078125 51.53125 44.71875 \r\nQ 48 40.375 41.703125 38.8125 \r\nQ 48.828125 37.15625 52.796875 32.3125 \r\nQ 56.78125 27.484375 56.78125 20.515625 \r\nQ 56.78125 9.90625 50.3125 4.234375 \r\nQ 43.84375 -1.421875 31.78125 -1.421875 \r\nQ 19.734375 -1.421875 13.25 4.234375 \r\nQ 6.78125 9.90625 6.78125 20.515625 \r\nQ 6.78125 27.484375 10.78125 32.3125 \r\nQ 14.796875 37.15625 21.921875 38.8125 \r\nz\r\nM 18.3125 54.390625 \r\nQ 18.3125 48.734375 21.84375 45.5625 \r\nQ 25.390625 42.390625 31.78125 42.390625 \r\nQ 38.140625 42.390625 41.71875 45.5625 \r\nQ 45.3125 48.734375 45.3125 54.390625 \r\nQ 45.3125 60.0625 41.71875 63.234375 \r\nQ 38.140625 66.40625 31.78125 66.40625 \r\nQ 25.390625 66.40625 21.84375 63.234375 \r\nQ 18.3125 60.0625 18.3125 54.390625 \r\nz\r\n\" id=\"DejaVuSans-56\"/>\r\n      </defs>\r\n      <g transform=\"translate(207.662125 120.634801)scale(0.1 -0.1)\">\r\n       <use xlink:href=\"#DejaVuSans-56\"/>\r\n       <use x=\"63.623047\" xlink:href=\"#DejaVuSans-48\"/>\r\n      </g>\r\n     </g>\r\n    </g>\r\n    <g id=\"xtick_6\">\r\n     <g id=\"line2d_6\">\r\n      <g>\r\n       <use style=\"stroke:#000000;stroke-width:0.8;\" x=\"254.660624\" xlink:href=\"#m88fe8061dd\" y=\"106.036364\"/>\r\n      </g>\r\n     </g>\r\n     <g id=\"text_6\">\r\n      <!-- 100 -->\r\n      <defs>\r\n       <path d=\"M 12.40625 8.296875 \r\nL 28.515625 8.296875 \r\nL 28.515625 63.921875 \r\nL 10.984375 60.40625 \r\nL 10.984375 69.390625 \r\nL 28.421875 72.90625 \r\nL 38.28125 72.90625 \r\nL 38.28125 8.296875 \r\nL 54.390625 8.296875 \r\nL 54.390625 0 \r\nL 12.40625 0 \r\nz\r\n\" id=\"DejaVuSans-49\"/>\r\n      </defs>\r\n      <g transform=\"translate(245.116874 120.634801)scale(0.1 -0.1)\">\r\n       <use xlink:href=\"#DejaVuSans-49\"/>\r\n       <use x=\"63.623047\" xlink:href=\"#DejaVuSans-48\"/>\r\n       <use x=\"127.246094\" xlink:href=\"#DejaVuSans-48\"/>\r\n      </g>\r\n     </g>\r\n    </g>\r\n    <g id=\"xtick_7\">\r\n     <g id=\"line2d_7\">\r\n      <g>\r\n       <use style=\"stroke:#000000;stroke-width:0.8;\" x=\"295.296624\" xlink:href=\"#m88fe8061dd\" y=\"106.036364\"/>\r\n      </g>\r\n     </g>\r\n     <g id=\"text_7\">\r\n      <!-- 120 -->\r\n      <g transform=\"translate(285.752874 120.634801)scale(0.1 -0.1)\">\r\n       <use xlink:href=\"#DejaVuSans-49\"/>\r\n       <use x=\"63.623047\" xlink:href=\"#DejaVuSans-50\"/>\r\n       <use x=\"127.246094\" xlink:href=\"#DejaVuSans-48\"/>\r\n      </g>\r\n     </g>\r\n    </g>\r\n    <g id=\"xtick_8\">\r\n     <g id=\"line2d_8\">\r\n      <g>\r\n       <use style=\"stroke:#000000;stroke-width:0.8;\" x=\"335.932623\" xlink:href=\"#m88fe8061dd\" y=\"106.036364\"/>\r\n      </g>\r\n     </g>\r\n     <g id=\"text_8\">\r\n      <!-- 140 -->\r\n      <g transform=\"translate(326.388873 120.634801)scale(0.1 -0.1)\">\r\n       <use xlink:href=\"#DejaVuSans-49\"/>\r\n       <use x=\"63.623047\" xlink:href=\"#DejaVuSans-52\"/>\r\n       <use x=\"127.246094\" xlink:href=\"#DejaVuSans-48\"/>\r\n      </g>\r\n     </g>\r\n    </g>\r\n   </g>\r\n   <g id=\"matplotlib.axis_2\">\r\n    <g id=\"ytick_1\">\r\n     <g id=\"line2d_9\">\r\n      <defs>\r\n       <path d=\"M 0 0 \r\nL -3.5 0 \r\n\" id=\"m26ce0ef3d0\" style=\"stroke:#000000;stroke-width:0.8;\"/>\r\n      </defs>\r\n      <g>\r\n       <use style=\"stroke:#000000;stroke-width:0.8;\" x=\"36.465625\" xlink:href=\"#m26ce0ef3d0\" y=\"91.423387\"/>\r\n      </g>\r\n     </g>\r\n     <g id=\"text_9\">\r\n      <!-- 0.10 -->\r\n      <defs>\r\n       <path d=\"M 10.6875 12.40625 \r\nL 21 12.40625 \r\nL 21 0 \r\nL 10.6875 0 \r\nz\r\n\" id=\"DejaVuSans-46\"/>\r\n      </defs>\r\n      <g transform=\"translate(7.2 95.222605)scale(0.1 -0.1)\">\r\n       <use xlink:href=\"#DejaVuSans-48\"/>\r\n       <use x=\"63.623047\" xlink:href=\"#DejaVuSans-46\"/>\r\n       <use x=\"95.410156\" xlink:href=\"#DejaVuSans-49\"/>\r\n       <use x=\"159.033203\" xlink:href=\"#DejaVuSans-48\"/>\r\n      </g>\r\n     </g>\r\n    </g>\r\n    <g id=\"ytick_2\">\r\n     <g id=\"line2d_10\">\r\n      <g>\r\n       <use style=\"stroke:#000000;stroke-width:0.8;\" x=\"36.465625\" xlink:href=\"#m26ce0ef3d0\" y=\"61.488654\"/>\r\n      </g>\r\n     </g>\r\n     <g id=\"text_10\">\r\n      <!-- 0.15 -->\r\n      <defs>\r\n       <path d=\"M 10.796875 72.90625 \r\nL 49.515625 72.90625 \r\nL 49.515625 64.59375 \r\nL 19.828125 64.59375 \r\nL 19.828125 46.734375 \r\nQ 21.96875 47.46875 24.109375 47.828125 \r\nQ 26.265625 48.1875 28.421875 48.1875 \r\nQ 40.625 48.1875 47.75 41.5 \r\nQ 54.890625 34.8125 54.890625 23.390625 \r\nQ 54.890625 11.625 47.5625 5.09375 \r\nQ 40.234375 -1.421875 26.90625 -1.421875 \r\nQ 22.3125 -1.421875 17.546875 -0.640625 \r\nQ 12.796875 0.140625 7.71875 1.703125 \r\nL 7.71875 11.625 \r\nQ 12.109375 9.234375 16.796875 8.0625 \r\nQ 21.484375 6.890625 26.703125 6.890625 \r\nQ 35.15625 6.890625 40.078125 11.328125 \r\nQ 45.015625 15.765625 45.015625 23.390625 \r\nQ 45.015625 31 40.078125 35.4375 \r\nQ 35.15625 39.890625 26.703125 39.890625 \r\nQ 22.75 39.890625 18.8125 39.015625 \r\nQ 14.890625 38.140625 10.796875 36.28125 \r\nz\r\n\" id=\"DejaVuSans-53\"/>\r\n      </defs>\r\n      <g transform=\"translate(7.2 65.287872)scale(0.1 -0.1)\">\r\n       <use xlink:href=\"#DejaVuSans-48\"/>\r\n       <use x=\"63.623047\" xlink:href=\"#DejaVuSans-46\"/>\r\n       <use x=\"95.410156\" xlink:href=\"#DejaVuSans-49\"/>\r\n       <use x=\"159.033203\" xlink:href=\"#DejaVuSans-53\"/>\r\n      </g>\r\n     </g>\r\n    </g>\r\n    <g id=\"ytick_3\">\r\n     <g id=\"line2d_11\">\r\n      <g>\r\n       <use style=\"stroke:#000000;stroke-width:0.8;\" x=\"36.465625\" xlink:href=\"#m26ce0ef3d0\" y=\"31.553921\"/>\r\n      </g>\r\n     </g>\r\n     <g id=\"text_11\">\r\n      <!-- 0.20 -->\r\n      <g transform=\"translate(7.2 35.353139)scale(0.1 -0.1)\">\r\n       <use xlink:href=\"#DejaVuSans-48\"/>\r\n       <use x=\"63.623047\" xlink:href=\"#DejaVuSans-46\"/>\r\n       <use x=\"95.410156\" xlink:href=\"#DejaVuSans-50\"/>\r\n       <use x=\"159.033203\" xlink:href=\"#DejaVuSans-48\"/>\r\n      </g>\r\n     </g>\r\n    </g>\r\n   </g>\r\n   <g id=\"line2d_12\">\r\n    <path clip-path=\"url(#p3a64de5511)\" d=\"M 51.683807 101.543802 \r\nL 52.293347 90.985084 \r\nL 52.902887 84.758986 \r\nL 53.512427 81.331916 \r\nL 53.918787 80.077901 \r\nL 54.325147 79.388083 \r\nL 54.731507 79.09974 \r\nL 55.137867 79.090524 \r\nL 55.747407 79.407134 \r\nL 56.763307 80.345031 \r\nL 58.795107 82.277396 \r\nL 60.014187 83.119718 \r\nL 61.233267 83.713355 \r\nL 62.655527 84.163774 \r\nL 64.484147 84.490115 \r\nL 67.125487 84.695371 \r\nL 71.798627 84.786796 \r\nL 92.522986 84.801448 \r\nL 356.047443 84.80145 \r\nL 356.047443 84.80145 \r\n\" style=\"fill:none;stroke:#ff0000;stroke-linecap:square;stroke-width:1.5;\"/>\r\n   </g>\r\n   <g id=\"line2d_13\">\r\n    <path clip-path=\"url(#p3a64de5511)\" d=\"M 51.683807 57.722691 \r\nL 52.090167 52.810843 \r\nL 52.496527 50.545511 \r\nL 52.699707 50.148499 \r\nL 52.902887 50.131987 \r\nL 53.106067 50.427542 \r\nL 53.512427 51.72768 \r\nL 54.121967 54.796602 \r\nL 56.966487 70.962602 \r\nL 57.982387 74.983249 \r\nL 58.998287 77.971643 \r\nL 59.811007 79.748624 \r\nL 60.623727 81.092725 \r\nL 61.639627 82.304883 \r\nL 62.655527 83.135031 \r\nL 63.671427 83.696935 \r\nL 64.890507 84.132372 \r\nL 66.515947 84.462186 \r\nL 68.750927 84.670198 \r\nL 72.814527 84.778885 \r\nL 86.833946 84.801406 \r\nL 356.047443 84.80145 \r\nL 356.047443 84.80145 \r\n\" style=\"fill:none;stroke:#0000ff;stroke-linecap:square;stroke-width:1.5;\"/>\r\n   </g>\r\n   <g id=\"line2d_14\">\r\n    <path clip-path=\"url(#p3a64de5511)\" d=\"M 51.683807 13.90158 \r\nL 51.886987 12.332637 \r\nL 52.090167 11.692562 \r\nL 52.293347 11.819644 \r\nL 52.496527 12.57448 \r\nL 52.902887 15.504989 \r\nL 53.512427 22.123445 \r\nL 56.153767 54.113262 \r\nL 57.169667 62.950745 \r\nL 57.982387 68.399274 \r\nL 58.795107 72.617994 \r\nL 59.607827 75.829123 \r\nL 60.420547 78.24102 \r\nL 61.233267 80.03345 \r\nL 62.045987 81.353997 \r\nL 62.858707 82.319891 \r\nL 63.874607 83.164972 \r\nL 64.890507 83.72783 \r\nL 66.109587 84.157793 \r\nL 67.735027 84.478748 \r\nL 69.970007 84.678114 \r\nL 74.033607 84.780572 \r\nL 88.865746 84.801423 \r\nL 356.047443 84.80145 \r\nL 356.047443 84.80145 \r\n\" style=\"fill:none;stroke:#0000ff;stroke-linecap:square;stroke-width:1.5;\"/>\r\n   </g>\r\n   <g id=\"patch_3\">\r\n    <path d=\"M 36.465625 106.036364 \r\nL 36.465625 7.2 \r\n\" style=\"fill:none;stroke:#000000;stroke-linecap:square;stroke-linejoin:miter;stroke-width:0.8;\"/>\r\n   </g>\r\n   <g id=\"patch_4\">\r\n    <path d=\"M 371.265625 106.036364 \r\nL 371.265625 7.2 \r\n\" style=\"fill:none;stroke:#000000;stroke-linecap:square;stroke-linejoin:miter;stroke-width:0.8;\"/>\r\n   </g>\r\n   <g id=\"patch_5\">\r\n    <path d=\"M 36.465625 106.036364 \r\nL 371.265625 106.036364 \r\n\" style=\"fill:none;stroke:#000000;stroke-linecap:square;stroke-linejoin:miter;stroke-width:0.8;\"/>\r\n   </g>\r\n   <g id=\"patch_6\">\r\n    <path d=\"M 36.465625 7.2 \r\nL 371.265625 7.2 \r\n\" style=\"fill:none;stroke:#000000;stroke-linecap:square;stroke-linejoin:miter;stroke-width:0.8;\"/>\r\n   </g>\r\n  </g>\r\n  <g id=\"axes_2\">\r\n   <g id=\"patch_7\">\r\n    <path d=\"M 36.465625 224.64 \r\nL 371.265625 224.64 \r\nL 371.265625 125.803636 \r\nL 36.465625 125.803636 \r\nz\r\n\" style=\"fill:#ffffff;\"/>\r\n   </g>\r\n   <g id=\"matplotlib.axis_3\">\r\n    <g id=\"xtick_9\">\r\n     <g id=\"line2d_15\">\r\n      <g>\r\n       <use style=\"stroke:#000000;stroke-width:0.8;\" x=\"51.480627\" xlink:href=\"#m88fe8061dd\" y=\"224.64\"/>\r\n      </g>\r\n     </g>\r\n     <g id=\"text_12\">\r\n      <!-- 0 -->\r\n      <g transform=\"translate(48.299377 239.238437)scale(0.1 -0.1)\">\r\n       <use xlink:href=\"#DejaVuSans-48\"/>\r\n      </g>\r\n     </g>\r\n    </g>\r\n    <g id=\"xtick_10\">\r\n     <g id=\"line2d_16\">\r\n      <g>\r\n       <use style=\"stroke:#000000;stroke-width:0.8;\" x=\"92.116626\" xlink:href=\"#m88fe8061dd\" y=\"224.64\"/>\r\n      </g>\r\n     </g>\r\n     <g id=\"text_13\">\r\n      <!-- 20 -->\r\n      <g transform=\"translate(85.754126 239.238437)scale(0.1 -0.1)\">\r\n       <use xlink:href=\"#DejaVuSans-50\"/>\r\n       <use x=\"63.623047\" xlink:href=\"#DejaVuSans-48\"/>\r\n      </g>\r\n     </g>\r\n    </g>\r\n    <g id=\"xtick_11\">\r\n     <g id=\"line2d_17\">\r\n      <g>\r\n       <use style=\"stroke:#000000;stroke-width:0.8;\" x=\"132.752626\" xlink:href=\"#m88fe8061dd\" y=\"224.64\"/>\r\n      </g>\r\n     </g>\r\n     <g id=\"text_14\">\r\n      <!-- 40 -->\r\n      <g transform=\"translate(126.390126 239.238437)scale(0.1 -0.1)\">\r\n       <use xlink:href=\"#DejaVuSans-52\"/>\r\n       <use x=\"63.623047\" xlink:href=\"#DejaVuSans-48\"/>\r\n      </g>\r\n     </g>\r\n    </g>\r\n    <g id=\"xtick_12\">\r\n     <g id=\"line2d_18\">\r\n      <g>\r\n       <use style=\"stroke:#000000;stroke-width:0.8;\" x=\"173.388625\" xlink:href=\"#m88fe8061dd\" y=\"224.64\"/>\r\n      </g>\r\n     </g>\r\n     <g id=\"text_15\">\r\n      <!-- 60 -->\r\n      <g transform=\"translate(167.026125 239.238437)scale(0.1 -0.1)\">\r\n       <use xlink:href=\"#DejaVuSans-54\"/>\r\n       <use x=\"63.623047\" xlink:href=\"#DejaVuSans-48\"/>\r\n      </g>\r\n     </g>\r\n    </g>\r\n    <g id=\"xtick_13\">\r\n     <g id=\"line2d_19\">\r\n      <g>\r\n       <use style=\"stroke:#000000;stroke-width:0.8;\" x=\"214.024625\" xlink:href=\"#m88fe8061dd\" y=\"224.64\"/>\r\n      </g>\r\n     </g>\r\n     <g id=\"text_16\">\r\n      <!-- 80 -->\r\n      <g transform=\"translate(207.662125 239.238437)scale(0.1 -0.1)\">\r\n       <use xlink:href=\"#DejaVuSans-56\"/>\r\n       <use x=\"63.623047\" xlink:href=\"#DejaVuSans-48\"/>\r\n      </g>\r\n     </g>\r\n    </g>\r\n    <g id=\"xtick_14\">\r\n     <g id=\"line2d_20\">\r\n      <g>\r\n       <use style=\"stroke:#000000;stroke-width:0.8;\" x=\"254.660624\" xlink:href=\"#m88fe8061dd\" y=\"224.64\"/>\r\n      </g>\r\n     </g>\r\n     <g id=\"text_17\">\r\n      <!-- 100 -->\r\n      <g transform=\"translate(245.116874 239.238437)scale(0.1 -0.1)\">\r\n       <use xlink:href=\"#DejaVuSans-49\"/>\r\n       <use x=\"63.623047\" xlink:href=\"#DejaVuSans-48\"/>\r\n       <use x=\"127.246094\" xlink:href=\"#DejaVuSans-48\"/>\r\n      </g>\r\n     </g>\r\n    </g>\r\n    <g id=\"xtick_15\">\r\n     <g id=\"line2d_21\">\r\n      <g>\r\n       <use style=\"stroke:#000000;stroke-width:0.8;\" x=\"295.296624\" xlink:href=\"#m88fe8061dd\" y=\"224.64\"/>\r\n      </g>\r\n     </g>\r\n     <g id=\"text_18\">\r\n      <!-- 120 -->\r\n      <g transform=\"translate(285.752874 239.238437)scale(0.1 -0.1)\">\r\n       <use xlink:href=\"#DejaVuSans-49\"/>\r\n       <use x=\"63.623047\" xlink:href=\"#DejaVuSans-50\"/>\r\n       <use x=\"127.246094\" xlink:href=\"#DejaVuSans-48\"/>\r\n      </g>\r\n     </g>\r\n    </g>\r\n    <g id=\"xtick_16\">\r\n     <g id=\"line2d_22\">\r\n      <g>\r\n       <use style=\"stroke:#000000;stroke-width:0.8;\" x=\"335.932623\" xlink:href=\"#m88fe8061dd\" y=\"224.64\"/>\r\n      </g>\r\n     </g>\r\n     <g id=\"text_19\">\r\n      <!-- 140 -->\r\n      <g transform=\"translate(326.388873 239.238437)scale(0.1 -0.1)\">\r\n       <use xlink:href=\"#DejaVuSans-49\"/>\r\n       <use x=\"63.623047\" xlink:href=\"#DejaVuSans-52\"/>\r\n       <use x=\"127.246094\" xlink:href=\"#DejaVuSans-48\"/>\r\n      </g>\r\n     </g>\r\n    </g>\r\n   </g>\r\n   <g id=\"matplotlib.axis_4\">\r\n    <g id=\"ytick_4\">\r\n     <g id=\"line2d_23\">\r\n      <g>\r\n       <use style=\"stroke:#000000;stroke-width:0.8;\" x=\"36.465625\" xlink:href=\"#m26ce0ef3d0\" y=\"196.763929\"/>\r\n      </g>\r\n     </g>\r\n     <g id=\"text_20\">\r\n      <!-- 0.05 -->\r\n      <g transform=\"translate(7.2 200.563148)scale(0.1 -0.1)\">\r\n       <use xlink:href=\"#DejaVuSans-48\"/>\r\n       <use x=\"63.623047\" xlink:href=\"#DejaVuSans-46\"/>\r\n       <use x=\"95.410156\" xlink:href=\"#DejaVuSans-48\"/>\r\n       <use x=\"159.033203\" xlink:href=\"#DejaVuSans-53\"/>\r\n      </g>\r\n     </g>\r\n    </g>\r\n    <g id=\"ytick_5\">\r\n     <g id=\"line2d_24\">\r\n      <g>\r\n       <use style=\"stroke:#000000;stroke-width:0.8;\" x=\"36.465625\" xlink:href=\"#m26ce0ef3d0\" y=\"162.780356\"/>\r\n      </g>\r\n     </g>\r\n     <g id=\"text_21\">\r\n      <!-- 0.10 -->\r\n      <g transform=\"translate(7.2 166.579575)scale(0.1 -0.1)\">\r\n       <use xlink:href=\"#DejaVuSans-48\"/>\r\n       <use x=\"63.623047\" xlink:href=\"#DejaVuSans-46\"/>\r\n       <use x=\"95.410156\" xlink:href=\"#DejaVuSans-49\"/>\r\n       <use x=\"159.033203\" xlink:href=\"#DejaVuSans-48\"/>\r\n      </g>\r\n     </g>\r\n    </g>\r\n    <g id=\"ytick_6\">\r\n     <g id=\"line2d_25\">\r\n      <g>\r\n       <use style=\"stroke:#000000;stroke-width:0.8;\" x=\"36.465625\" xlink:href=\"#m26ce0ef3d0\" y=\"128.796783\"/>\r\n      </g>\r\n     </g>\r\n     <g id=\"text_22\">\r\n      <!-- 0.15 -->\r\n      <g transform=\"translate(7.2 132.596002)scale(0.1 -0.1)\">\r\n       <use xlink:href=\"#DejaVuSans-48\"/>\r\n       <use x=\"63.623047\" xlink:href=\"#DejaVuSans-46\"/>\r\n       <use x=\"95.410156\" xlink:href=\"#DejaVuSans-49\"/>\r\n       <use x=\"159.033203\" xlink:href=\"#DejaVuSans-53\"/>\r\n      </g>\r\n     </g>\r\n    </g>\r\n   </g>\r\n   <g id=\"line2d_26\">\r\n    <path clip-path=\"url(#p3eb30158a7)\" d=\"M 51.683807 220.147438 \r\nL 52.293347 195.727704 \r\nL 52.902887 179.595914 \r\nL 53.512427 169.097966 \r\nL 54.121967 162.398721 \r\nL 54.731507 158.235705 \r\nL 55.341047 155.745506 \r\nL 55.950587 154.341723 \r\nL 56.560127 153.62938 \r\nL 57.169667 153.345108 \r\nL 57.779207 153.315478 \r\nL 58.795107 153.545713 \r\nL 62.655527 154.693971 \r\nL 64.890507 155.011132 \r\nL 67.938207 155.186946 \r\nL 74.033607 155.256875 \r\nL 122.187266 155.262766 \r\nL 356.047443 155.262766 \r\nL 356.047443 155.262766 \r\n\" style=\"fill:none;stroke:#ff0000;stroke-linecap:square;stroke-width:1.5;\"/>\r\n   </g>\r\n   <g id=\"line2d_27\">\r\n    <path clip-path=\"url(#p3eb30158a7)\" d=\"M 51.683807 216.2771 \r\nL 52.293347 184.236134 \r\nL 52.902887 164.666777 \r\nL 53.512427 153.263601 \r\nL 53.918787 148.716689 \r\nL 54.325147 145.873005 \r\nL 54.731507 144.265952 \r\nL 55.137867 143.541943 \r\nL 55.544227 143.434783 \r\nL 55.950587 143.74562 \r\nL 56.560127 144.684783 \r\nL 57.982387 147.617263 \r\nL 59.201467 149.926319 \r\nL 60.217367 151.442452 \r\nL 61.233267 152.587364 \r\nL 62.249167 153.419938 \r\nL 63.468247 154.104233 \r\nL 64.890507 154.600555 \r\nL 66.515947 154.919526 \r\nL 68.954107 155.138027 \r\nL 73.220887 155.242619 \r\nL 88.865746 155.262746 \r\nL 356.047443 155.262766 \r\nL 356.047443 155.262766 \r\n\" style=\"fill:none;stroke:#0000ff;stroke-linecap:square;stroke-width:1.5;\"/>\r\n   </g>\r\n   <g id=\"line2d_28\">\r\n    <path clip-path=\"url(#p3eb30158a7)\" d=\"M 51.683807 212.406762 \r\nL 52.293347 172.744563 \r\nL 52.902887 149.73764 \r\nL 53.309247 140.622335 \r\nL 53.715607 134.970647 \r\nL 54.121967 131.829477 \r\nL 54.528327 130.477072 \r\nL 54.731507 130.296198 \r\nL 54.934687 130.37051 \r\nL 55.341047 131.104616 \r\nL 55.950587 133.149518 \r\nL 57.576027 140.222102 \r\nL 58.795107 144.876609 \r\nL 59.811007 147.872229 \r\nL 60.826907 150.110278 \r\nL 61.842807 151.725963 \r\nL 62.858707 152.864416 \r\nL 63.874607 153.652273 \r\nL 65.093687 154.274532 \r\nL 66.515947 154.710255 \r\nL 68.344567 155.004933 \r\nL 70.985907 155.178881 \r\nL 76.268587 155.254342 \r\nL 109.793286 155.262766 \r\nL 356.047443 155.262766 \r\nL 356.047443 155.262766 \r\n\" style=\"fill:none;stroke:#0000ff;stroke-linecap:square;stroke-width:1.5;\"/>\r\n   </g>\r\n   <g id=\"patch_8\">\r\n    <path d=\"M 36.465625 224.64 \r\nL 36.465625 125.803636 \r\n\" style=\"fill:none;stroke:#000000;stroke-linecap:square;stroke-linejoin:miter;stroke-width:0.8;\"/>\r\n   </g>\r\n   <g id=\"patch_9\">\r\n    <path d=\"M 371.265625 224.64 \r\nL 371.265625 125.803636 \r\n\" style=\"fill:none;stroke:#000000;stroke-linecap:square;stroke-linejoin:miter;stroke-width:0.8;\"/>\r\n   </g>\r\n   <g id=\"patch_10\">\r\n    <path d=\"M 36.465625 224.64 \r\nL 371.265625 224.64 \r\n\" style=\"fill:none;stroke:#000000;stroke-linecap:square;stroke-linejoin:miter;stroke-width:0.8;\"/>\r\n   </g>\r\n   <g id=\"patch_11\">\r\n    <path d=\"M 36.465625 125.803636 \r\nL 371.265625 125.803636 \r\n\" style=\"fill:none;stroke:#000000;stroke-linecap:square;stroke-linejoin:miter;stroke-width:0.8;\"/>\r\n   </g>\r\n  </g>\r\n </g>\r\n <defs>\r\n  <clipPath id=\"p3a64de5511\">\r\n   <rect height=\"98.836364\" width=\"334.8\" x=\"36.465625\" y=\"7.2\"/>\r\n  </clipPath>\r\n  <clipPath id=\"p3eb30158a7\">\r\n   <rect height=\"98.836364\" width=\"334.8\" x=\"36.465625\" y=\"125.803636\"/>\r\n  </clipPath>\r\n </defs>\r\n</svg>\r\n",
            "image/png": "[encoded data removed]"
          },
          "metadata": {
            "needs_background": "light"
          }
        }
      ],
      "source": [
        "plt.figure()\n",
        "plt.subplot(2,1,1)\n",
        "plt.plot(tt[1:],x_series_ortho[0,0,1:],'r',label=r\"$J_E=0.5$ upper\")\n",
        "plt.plot(tt[1:],x_series_ortho[1,0,1:],'b',label=r\"$J_E=3.0$ upper\")\n",
        "plt.plot(tt[1:],x_series_ortho[2,0,1:],'b',label=r\"$J_E=5.0$ upper\")\n",
        "plt.subplot(2,1,2)\n",
        "plt.plot(tt[1:],x_series_ortho[0,1,1:],'r',label=r\"$J_E=0.5$ upper\")\n",
        "plt.plot(tt[1:],x_series_ortho[1,1,1:],'b',label=r\"$J_E=3.0$ upper\")\n",
        "plt.plot(tt[1:],x_series_ortho[2,1,1:],'b',label=r\"$J_E=5.0$ upper\")\n",
        "print(x_series_ortho[1,1,-1])"
      ]
    },
    {
      "cell_type": "markdown",
      "metadata": {},
      "source": [
        "The numerical simulation showed that converting variables to a new, orthogonal coordinate can still accurately capture the network dynamics. The detailed mathematical analysis is as follows"
      ]
    },
    {
      "cell_type": "markdown",
      "metadata": {},
      "source": [
        "We use left singular vectors, columns of $2 \\times 2$ matrix $u$, as a new set of basis vectors $\\mathbf{m}=[ 1,1] .\\mathrm{T},\\ \\mathbf{I}=[ 1,-1].\\mathrm{T}$. Then we can express the neuron activity vector $\\mathbf{r}$ as the linear combination of this set of basis vectors $$ \\mathbf{r}(t)=\\kappa(t)\\mathbf{m}+\\nu(t)\\mathbf{I}.$$\n",
        "Also, the dynamics can be expressed as $$\\frac{\\mathrm{d}(\\kappa(t)\\mathbf{m}+\\nu(t)\\mathbf{I})}{\\mathrm{d}t}=-(\\kappa(t)\\mathbf{m}+\\nu(t)\\mathbf{I})+J_{mat}\\phi(\\mathbf{r})+\\mathbf{r}_0\\delta t,$$ because of the orthogonality, we dissect coefficient for $\\mathbf{m}$ and $\\mathbf{I}$ apart $$\\frac{\\mathrm{d}}{\\mathrm{d}t}\\kappa(t)=-\\kappa(t)+\\mathbf{n}^{\\intercal}\\phi(\\kappa(t)\\mathbf{m}+\\nu(t)\\mathbf{I})+\\kappa_0\\delta (t),$$\n",
        "$$\\frac{\\mathrm{d}}{\\mathrm{d}t}\\nu(t)=-\\nu(t)+\\nu_0\\delta (t).$$\n",
        "Previously, we figured out the Fixed Points of neuronal activity, the nonlinear transfer function can be linearized up to $\\mathcal{O}(\\kappa(t)\\mathbf{m}+\\nu(t)\\mathbf{I})$ near the stable FP, and the dynamics of variable $\\kappa(t)$ becomes\n",
        "$$\\frac{\\mathrm{d}}{\\mathrm{d}t}(\\delta\\kappa+\\kappa^*)=-(\\delta\\kappa+\\kappa^*)+\\mathbf{n}^{\\intercal}(\\phi^*+(\\phi^*)'(\\delta\\kappa\\mathbf{m}+\\delta\\nu\\mathbf{I}))+\\delta\\kappa_0\\delta (t_{perturb}),$$\n",
        "the fixed point satisfies $0=-\\kappa^*+\\mathbf{n}^{\\intercal}\\phi^*$ and $nu^*=0$, so we have\n",
        "$$\\frac{\\mathrm{d}}{\\mathrm{d}t}\\delta\\kappa=-\\delta\\kappa+\\mathbf{n}^{\\intercal}(\\phi^*)'(\\delta\\kappa\\mathbf{m}+\\delta\\nu\\mathbf{I})+\\delta\\kappa_0\\delta (t_{perturb}),$$\n",
        "and\n",
        "$$\\frac{\\mathrm{d}}{\\mathrm{d}t}\\delta\\nu(t)=-\\delta\\nu(t)+\\delta\\nu_0\\delta (t_{perturb}).$$\n",
        "  \n",
        "  We set $\\mathbf{x}(t)=[\\delta\\kappa(t),\\delta\\nu(t)]^{\\intercal}$, new connectivity matrix under orthogonal coordinate is  \n",
        "\\begin{equation}\n",
        "\\left[                  \n",
        "\\begin{array}{ccc}\n",
        " -1+J_E(\\phi^*_E)'-J_I(\\phi^*_I)'& J_E(\\phi^*_E)'+J_I(\\phi^*_I)'\\\\ \n",
        " 0& -1\n",
        "\\end{array}\n",
        "\\right ].\n",
        "\\end{equation}\n",
        "The new matrix is reduced to an up-triangle format, diagonal elements represents self-compressing/stretching while off-diagonal elements indicate the embedded feedforward structure. From another point of view, the upper right element reflects the projection from external perturbation to recurrent space, thus indicates the structure of external perturbation and the overlap between recurrent and external stimulus can impact the diverging/converging of the neuronal activity."
      ]
    },
    {
      "cell_type": "code",
      "execution_count": 124,
      "metadata": {},
      "outputs": [],
      "source": [
        "def eigval_sym(Jmat,param_asym):\n",
        "  # asymmetric components in E and I\n",
        "  aE,aI = param_asym[0],param_asym[1]\n",
        "  Jmat_asym=Jmat.copy()\n",
        "  Jmat_asym[1,0]+=aE \n",
        "  Jmat_asym[1,1]+=aI \n",
        "  # generate symmetric matrix\n",
        "  Jmat_sym = (Jmat_asym+Jmat_asym.T)/2.0\n",
        "  # calculate Trace and Dominant\n",
        "  trace_sym,det_sym=Jmat_sym.trace(),la.det(Jmat_sym)\n",
        "  print('det num(num):',det_sym)\n",
        "  eigval_sym,eigvec_sym=la.eig(Jmat_sym)\n",
        "\n",
        "  return eigval_sym,trace_sym,det_sym\n",
        "\n",
        "def partial_asym(Jmat,param_asym):\n",
        "  # symmetric components in E and I\n",
        "  Jmat_asym=Jmat.copy()\n",
        "  JE,JI = Jmat_asym[0,0],-Jmat_asym[0,1]\n",
        "  # asymmetric components in E and I\n",
        "  aE,aI = param_asym[0],param_asym[1]\n",
        "  \n",
        "  Jmat_asym[1,0]+=aE \n",
        "  Jmat_asym[1,1]+=aI \n",
        "  # generate symmetric matrix\n",
        "  Jmat_sym = (Jmat_asym+Jmat_asym.T)/2.0  \n",
        "  # calculate Trace and Dominant\n",
        "  trace_sym,det_sym=Jmat_sym.trace(),la.det(Jmat_sym)\n",
        "  theo_det = Jmat_sym[0,0]*Jmat_sym[1,1]- Jmat_sym[0,1]*Jmat_sym[1,0]\n",
        "  print('theo det: ',theo_det,'; num:',det_sym)\n",
        "  # calculate partial_lambda_partial_a\n",
        "  part_a = (JE+aE-JI)/np.sqrt(trace_sym**2-4*det_sym)/2.0\n",
        "  part_b = (1+(-JE-JI+aI)/np.sqrt(trace_sym**2-4*det_sym))/2.0\n",
        "\n",
        "  return part_a, part_b"
      ]
    },
    {
      "cell_type": "code",
      "execution_count": 126,
      "metadata": {
        "tags": []
      },
      "outputs": [
        {
          "output_type": "stream",
          "name": "stdout",
          "text": "det num(num): -0.6683999999999999\ndet num(num): -0.6685802499999999\ntheo det:  -0.6683999999999999 ; num: -0.6683999999999999\nnumerical result:  0.10199972054003581 ; theoretical result:  0.10186413029537272\n"
        }
      ],
      "source": [
        "Jmat=np.zeros((2,2))\n",
        "Jmat[:,0],Jmat[:,1]=JE,-JI\n",
        "a,b,eps=0.56,0.87,1e-3\n",
        "numeigv,numtr,numdet=eigval_sym(Jmat,[a,b])\n",
        "numeigv_,_,_=eigval_sym(Jmat,[a+eps,b])\n",
        "numpart_a=(numeigv_[0]-numeigv[0])/eps\n",
        "theo_a,theo_b=partial_asym(Jmat,[a,b])\n",
        "\n",
        "print('numerical result: ',numpart_a,'; theoretical result: ',theo_a)"
      ]
    },
    {
      "cell_type": "code",
      "execution_count": 127,
      "metadata": {
        "tags": []
      },
      "outputs": [
        {
          "output_type": "stream",
          "name": "stdout",
          "text": "s [[2.60768096e+00 0.00000000e+00]\n [0.00000000e+00 9.29025163e-17]]\nmatexp:  [[ 1.57097549 -0.66613807]\n [ 0.57097549  0.33386193]]\neleexp:  [[ 1.57097549 -0.66613807]\n [ 0.57097549  0.33386193]]\neleexp:  [[1.8221188 0.4965853]\n [1.8221188 0.4965853]]\n"
        }
      ],
      "source": [
        "A=np.zeros((2,2))\n",
        "A[:,0],A[:,1]=1.2,-1.4\n",
        "U,S,VH=la.svd(A)\n",
        "\n",
        "sigS= np.eye(2)*S\n",
        "print('s',sigS)\n",
        "matexp = scpla.expm(A*0.5)\n",
        "print('matexp: ',matexp)\n",
        "print('eleexp: ',scpla.expm(U@(sigS*0.5)@VH))\n",
        "print('eleexp: ',np.exp((U@sigS@VH*0.5)))"
      ]
    },
    {
      "cell_type": "markdown",
      "metadata": {},
      "source": [
        "Use SVD for Generalized connectivity matrix, compare the solutions"
      ]
    },
    {
      "cell_type": "code",
      "execution_count": 128,
      "metadata": {
        "tags": []
      },
      "outputs": [
        {
          "output_type": "stream",
          "name": "stdout",
          "text": "singular eigenvalue, package:  [2.76562698 0.03615817] ; analytical:  [2.76562698 0.03615817]\n"
        }
      ],
      "source": [
        "# give JE and JI, differences a and b --> JE+,JI+\n",
        "JE,JI,a,b=1.2,1.4,0.1,0.2\n",
        "Jmat = np.zeros((2,2))\n",
        "Jmat[:,0],Jmat[:,1]=JE,-JI\n",
        "Jmat[1,0]+=a\n",
        "Jmat[1,1]-=b\n",
        "JEP,JIP=JE+a,JI+b\n",
        "\n",
        "u,s,vh = la.svd(Jmat)\n",
        "# analytical solution \n",
        "tr=np.sum(np.sum(Jmat**2,axis=0))\n",
        "det=(JE*JIP-JI*JEP)**2\n",
        "lambdaJ=np.zeros(2)\n",
        "lambdaJ[0],lambdaJ[1]=(tr+np.sqrt(tr**2-4*det))/2,(tr-np.sqrt(tr**2-4*det))/2\n",
        "sigJ=np.sqrt(lambdaJ)\n",
        "print('singular eigenvalue, package: ',s,'; analytical: ',sigJ)\n"
      ]
    },
    {
      "cell_type": "code",
      "execution_count": 129,
      "metadata": {
        "tags": []
      },
      "outputs": [
        {
          "output_type": "stream",
          "name": "stdout",
          "text": "left eigenvector, package:  [ 0.89439279 -1.118077  ] ; analytical:  [ 0.89439279 -1.118077  ]\n"
        }
      ],
      "source": [
        "ratioleft = np.zeros(2)\n",
        "ratioleft = (JE*JEP+JI*JIP)/(lambdaJ-(JE**2+JI**2))\n",
        "print('left eigenvector, package: ',u[0,:]/u[1,:],'; analytical: ',ratioleft)"
      ]
    },
    {
      "cell_type": "code",
      "execution_count": 80,
      "metadata": {
        "tags": []
      },
      "outputs": [
        {
          "output_type": "stream",
          "name": "stdout",
          "text": "right eigenvector, package:  [-0.83209909  1.20177994] ; analytical:  [-0.83209909  1.20177994]\nnv_1 [ -0.13183038 -10.83816962]\nratio right vec:  [-0.83209909  1.20177994]\nratio left vec:  [ 0.89439279 -1.118077  ]\nn real: [[ -0.13183038 -10.83816962]\n [  0.1584311   -9.0184311 ]]\nn trans: [[ -0.13183038 -10.83816962]\n [  0.1584311   -9.0184311 ]]\ntrans:  [[-1.6  1.4]\n [-1.3  1.2]]\n"
        }
      ],
      "source": [
        "ratioright = np.zeros(2)\n",
        "ratioright = ((lambdaJ-(JE**2+JI**2))*JI-(JE*JEP+JI*JIP)*JIP)/((lambdaJ-(JE**2+JI**2))*JE-(JE*JEP+JI*JIP)*JEP)\n",
        "print('right eigenvector, package: ',vh[:,0]/vh[:,1],'; analytical: ',ratioright)\n",
        "a,b0,b1=JE*JEP+JI*JIP, (lambdaJ[0]-(JE**2+JI**2)),(lambdaJ[1]-(JE**2+JI**2))\n",
        "lefttvec=np.zeros((2,2))\n",
        "leftvec[0,:] = JE*JEP+JI*JIP\n",
        "leftvec[1,:] = [b0,b1]\n",
        "rightvec=np.zeros((2,2))\n",
        "rightvec[0,:] = [b0*JI-a*JIP,b1*JI-a*JIP]\n",
        "# print('nv_1',rightvec[0,:])\n",
        "rightvec[1,:] = [b0*JE-a*JEP,b1*JE-a*JEP]\n",
        "# print('ratio right vec: ',rightvec[0,:]/rightvec[1,:])\n",
        "# print('ratio left vec: ',leftvec[0,:]/leftvec[1,:])\n",
        "# there is a transfer relationship between rightvec and leftvec\n",
        "mvtrans=np.array([[-JIP,JI],[-JEP,JE]])\n",
        "print('n real:',rightvec)\n",
        "print('n trans:',mvtrans@leftvec)\n",
        "# print inverse trans\n",
        "# print('trans: ',mvtrans)\n",
        "invtrans= la.inv(mvtrans)\n",
        "# org=invtrans@mvtrans"
      ]
    },
    {
      "cell_type": "code",
      "execution_count": 81,
      "metadata": {
        "tags": []
      },
      "outputs": [
        {
          "output_type": "stream",
          "name": "stdout",
          "text": "inverse trans:  [[ 1.2 -1.4]\n [ 1.3 -1.6]]\noriginal pmat:  [[ 1.2 -1.4]\n [ 1.3 -1.6]]\n"
        }
      ],
      "source": [
        "# rescaling factor\n",
        "rescalef = (JEP*JI-JE*JIP)\n",
        "print('inverse trans: ',invtrans*rescalef)\n",
        "print('original pmat: ',Jmat)"
      ]
    },
    {
      "cell_type": "code",
      "execution_count": 84,
      "metadata": {
        "tags": []
      },
      "outputs": [
        {
          "output_type": "stream",
          "name": "stdout",
          "text": "compare Jmat: [[-1.2  1.4]\n [-1.3  1.6]] [[ 1.2 -1.4]\n [ 1.3 -1.6]]\n"
        }
      ],
      "source": [
        "# rescale factor \n",
        "mvec=np.zeros((2,2))\n",
        "for i in range(2):\n",
        "    mvec[:,i] = leftvec[:,i]/np.sqrt(np.sum(leftvec[:,i]**2))*np.sqrt(lambdaJ[i])\n",
        "    nvec[:,i] = rightvec[:,i]/np.sqrt(np.sum(rightvec[:,i]**2))\n",
        "mv1,mv2=np.reshape(mvec[:,0],(2,1)),np.reshape(mvec[:,1],(2,1))\n",
        "nv1,nv2=np.reshape(nvec[:,0],(2,1)),np.reshape(nvec[:,1],(2,1))\n",
        "Jmat_est=mv1@(nv1.T)+mv2@(nv2.T)\n",
        "print('compare Jmat:',Jmat_est,Jmat)"
      ]
    },
    {
      "cell_type": "code",
      "execution_count": null,
      "metadata": {},
      "outputs": [],
      "source": []
    }
  ]
}